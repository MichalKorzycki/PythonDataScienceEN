{
 "cells": [
  {
   "cell_type": "markdown",
   "metadata": {},
   "source": [
    "# Python in Data Science"
   ]
  },
  {
   "cell_type": "markdown",
   "metadata": {},
   "source": [
    "## Data Wrangling with Pandas \n",
    "### Part 1 of 3 - introduction"
   ]
  },
  {
   "cell_type": "markdown",
   "metadata": {},
   "source": [
    "***"
   ]
  },
  {
   "cell_type": "markdown",
   "metadata": {},
   "source": [
    "## Data Wrangling 1\n",
    "- Data wrangling, munging, tidying\n",
    "- Pandas - introduction\n",
    "- Row selection\n",
    "- Formating"
   ]
  },
  {
   "cell_type": "markdown",
   "metadata": {},
   "source": [
    "---\n",
    "\n",
    "---\n",
    "## Exercise 1 - easy\n",
    "\n",
    "Sort `long_list` according to the absolute value (ie. forget about the `-`)\n"
   ]
  },
  {
   "cell_type": "code",
   "execution_count": 1,
   "metadata": {},
   "outputs": [
    {
     "data": {
      "text/plain": [
       "\"['0', '1', '2', '3', '4', '5', '6', '7', '8', '9', '10', '11', '12', '13', '14', '15', '16', '17', '18', '19', '20', '-1', '-2', '-3', '-4', '-5', '-6', '-7', '-8', '-9', '-10', '-11', '-12', '-13', '-14', '-15', '-16', '-17', '-18', '-19', '-20']\""
      ]
     },
     "execution_count": 1,
     "metadata": {},
     "output_type": "execute_result"
    }
   ],
   "source": [
    "long_list = [ str(i) for i in range(21)] + [ str(i) for i in range(-1, -21, -1)]\n",
    "str(long_list)"
   ]
  },
  {
   "cell_type": "code",
   "execution_count": 2,
   "metadata": {},
   "outputs": [
    {
     "data": {
      "text/plain": [
       "1"
      ]
     },
     "execution_count": 2,
     "metadata": {},
     "output_type": "execute_result"
    }
   ],
   "source": [
    "abs(-1)"
   ]
  },
  {
   "cell_type": "code",
   "execution_count": 3,
   "metadata": {},
   "outputs": [
    {
     "ename": "TypeError",
     "evalue": "bad operand type for abs(): 'str'",
     "output_type": "error",
     "traceback": [
      "\u001b[1;31m---------------------------------------------------------------------------\u001b[0m",
      "\u001b[1;31mTypeError\u001b[0m                                 Traceback (most recent call last)",
      "\u001b[1;32m<ipython-input-3-676b127b15ab>\u001b[0m in \u001b[0;36m<module>\u001b[1;34m\u001b[0m\n\u001b[1;32m----> 1\u001b[1;33m \u001b[0mabs\u001b[0m\u001b[1;33m(\u001b[0m\u001b[1;34m'-1'\u001b[0m\u001b[1;33m)\u001b[0m\u001b[1;33m\u001b[0m\u001b[1;33m\u001b[0m\u001b[0m\n\u001b[0m",
      "\u001b[1;31mTypeError\u001b[0m: bad operand type for abs(): 'str'"
     ]
    }
   ],
   "source": [
    "abs('-1')"
   ]
  },
  {
   "cell_type": "code",
   "execution_count": 4,
   "metadata": {},
   "outputs": [],
   "source": [
    "def absolute(x):\n",
    "    x = float(x)\n",
    "    return x if x > 0 else -x"
   ]
  },
  {
   "cell_type": "code",
   "execution_count": 5,
   "metadata": {},
   "outputs": [
    {
     "data": {
      "text/plain": [
       "1.0"
      ]
     },
     "execution_count": 5,
     "metadata": {},
     "output_type": "execute_result"
    }
   ],
   "source": [
    "absolute('-1')"
   ]
  },
  {
   "cell_type": "code",
   "execution_count": 6,
   "metadata": {},
   "outputs": [
    {
     "data": {
      "text/plain": [
       "\"['0', '1', '-1', '2', '-2', '3', '-3', '4', '-4', '5', '-5', '6', '-6', '7', '-7', '8', '-8', '9', '-9', '10', '-10', '11', '-11', '12', '-12', '13', '-13', '14', '-14', '15', '-15', '16', '-16', '17', '-17', '18', '-18', '19', '-19', '20', '-20']\""
      ]
     },
     "execution_count": 6,
     "metadata": {},
     "output_type": "execute_result"
    }
   ],
   "source": [
    "long_list.sort(key=absolute)\n",
    "str(long_list)"
   ]
  },
  {
   "cell_type": "code",
   "execution_count": 7,
   "metadata": {},
   "outputs": [
    {
     "data": {
      "text/plain": [
       "\"['-1', '-2', '-3', '-4', '-5', '-6', '-7', '-8', '-9', '-10', '-11', '-12', '-13', '-14', '-15', '-16', '-17', '-18', '-19', '-20', '0', '1', '2', '3', '4', '5', '6', '7', '8', '9', '10', '11', '12', '13', '14', '15', '16', '17', '18', '19', '20']\""
      ]
     },
     "execution_count": 7,
     "metadata": {},
     "output_type": "execute_result"
    }
   ],
   "source": [
    "long_list =  [ str(i) for i in range(-1, -21, -1)] + [ str(i) for i in range(21)]\n",
    "str(long_list)"
   ]
  },
  {
   "cell_type": "code",
   "execution_count": 8,
   "metadata": {},
   "outputs": [
    {
     "data": {
      "text/plain": [
       "\"['0', '-1', '1', '-2', '2', '-3', '3', '-4', '4', '-5', '5', '-6', '6', '-7', '7', '-8', '8', '-9', '9', '-10', '10', '-11', '11', '-12', '12', '-13', '13', '-14', '14', '-15', '15', '-16', '16', '-17', '17', '-18', '18', '-19', '19', '-20', '20']\""
      ]
     },
     "execution_count": 8,
     "metadata": {},
     "output_type": "execute_result"
    }
   ],
   "source": [
    "long_list.sort(key=absolute)\n",
    "str(long_list)"
   ]
  },
  {
   "cell_type": "markdown",
   "metadata": {},
   "source": [
    "## Exercise 2 - medium\n",
    "\n",
    "Generate numbers in the range `1-1000` that are NOT divisible by any number between `2` and `9`.\n"
   ]
  },
  {
   "cell_type": "code",
   "execution_count": 1,
   "metadata": {},
   "outputs": [
    {
     "data": {
      "text/plain": [
       "[(1, []),\n",
       " (2, [2]),\n",
       " (3, [3]),\n",
       " (4, [2, 4]),\n",
       " (5, [5]),\n",
       " (6, [2, 3, 6]),\n",
       " (7, [7]),\n",
       " (8, [2, 4, 8]),\n",
       " (9, [3, 9]),\n",
       " (10, [2, 5]),\n",
       " (11, []),\n",
       " (12, [2, 3, 4, 6]),\n",
       " (13, []),\n",
       " (14, [2, 7]),\n",
       " (15, [3, 5]),\n",
       " (16, [2, 4, 8]),\n",
       " (17, []),\n",
       " (18, [2, 3, 6, 9]),\n",
       " (19, []),\n",
       " (20, [2, 4, 5])]"
      ]
     },
     "execution_count": 1,
     "metadata": {},
     "output_type": "execute_result"
    }
   ],
   "source": [
    "[ (num,[div for div in range(2,10) if num%div == 0])  for num in range(1,21)]"
   ]
  },
  {
   "cell_type": "markdown",
   "metadata": {},
   "source": [
    "``` python\n",
    "[num for num in range(1,1001) if not [div for div in range(2,10) if num%div == 0]]\n",
    "```"
   ]
  },
  {
   "cell_type": "code",
   "execution_count": null,
   "metadata": {},
   "outputs": [],
   "source": [
    "str([num for num in range(1,1001) if not [div for div in range(2,10) if num%div == 0]][:21])"
   ]
  },
  {
   "cell_type": "code",
   "execution_count": null,
   "metadata": {},
   "outputs": [],
   "source": [
    "str([num for num in range(1,1001) if not [div for div in range(2,10) if num%div == 0]][-20:])"
   ]
  },
  {
   "cell_type": "markdown",
   "metadata": {},
   "source": [
    "## Exercise 3 - hard\n",
    "\n",
    "Create a function that 'flattens' lists\n",
    "\n",
    "`l = [4, 1, [ 2, [7] ], 3]`\n",
    "\n",
    "`flatten(l)`\n",
    "\n",
    "`[4, 1, 2, 7, 3]`\n"
   ]
  },
  {
   "cell_type": "code",
   "execution_count": 9,
   "metadata": {},
   "outputs": [],
   "source": [
    "def flatten(input_list):\n",
    "    ret = []\n",
    "    for x in input_list:\n",
    "        if type(x)==type([]):\n",
    "            for y in flatten(x):\n",
    "                ret.append(y)\n",
    "        else:\n",
    "            ret.append(x)\n",
    "    return ret"
   ]
  },
  {
   "cell_type": "code",
   "execution_count": 10,
   "metadata": {},
   "outputs": [
    {
     "data": {
      "text/plain": [
       "[4, 1, 2, 7, 3]"
      ]
     },
     "execution_count": 10,
     "metadata": {},
     "output_type": "execute_result"
    }
   ],
   "source": [
    "l = [4, 1, [ 2, [7] ], 3]\n",
    "l = flatten(l)\n",
    "l"
   ]
  },
  {
   "cell_type": "code",
   "execution_count": 11,
   "metadata": {},
   "outputs": [],
   "source": [
    "def flatten(input_list):\n",
    "    copy = list(input_list)\n",
    "    for i in range(len(input_list)-1,-1,-1):\n",
    "        del input_list[i]\n",
    "    for x in copy:\n",
    "        if type(x)==type([]):\n",
    "            for y in flatten(x):\n",
    "                input_list.append(y)\n",
    "        else:\n",
    "            input_list.append(x)\n",
    "    return input_list"
   ]
  },
  {
   "cell_type": "code",
   "execution_count": null,
   "metadata": {},
   "outputs": [],
   "source": [
    "l = [4, 1, [ 2, [7] ], 3]\n",
    "flatten(l)\n",
    "l"
   ]
  },
  {
   "cell_type": "code",
   "execution_count": 17,
   "metadata": {},
   "outputs": [
    {
     "name": "stdout",
     "output_type": "stream",
     "text": [
      "The Zen of Python, by Tim Peters\n",
      "\n",
      "Beautiful is better than ugly.\n",
      "Explicit is better than implicit.\n",
      "Simple is better than complex.\n",
      "Complex is better than complicated.\n",
      "Flat is better than nested.\n",
      "Sparse is better than dense.\n",
      "Readability counts.\n",
      "Special cases aren't special enough to break the rules.\n",
      "Although practicality beats purity.\n",
      "Errors should never pass silently.\n",
      "Unless explicitly silenced.\n",
      "In the face of ambiguity, refuse the temptation to guess.\n",
      "There should be one-- and preferably only one --obvious way to do it.\n",
      "Although that way may not be obvious at first unless you're Dutch.\n",
      "Now is better than never.\n",
      "Although never is often better than *right* now.\n",
      "If the implementation is hard to explain, it's a bad idea.\n",
      "If the implementation is easy to explain, it may be a good idea.\n",
      "Namespaces are one honking great idea -- let's do more of those!\n"
     ]
    }
   ],
   "source": [
    "import this"
   ]
  },
  {
   "cell_type": "markdown",
   "metadata": {},
   "source": [
    "***"
   ]
  },
  {
   "cell_type": "markdown",
   "metadata": {
    "jupyter": {
     "source_hidden": true
    },
    "tags": []
   },
   "source": [
    "![](img/road.jpg)"
   ]
  },
  {
   "cell_type": "markdown",
   "metadata": {},
   "source": [
    "## Data Wrangling, Munging, Tidying "
   ]
  },
  {
   "cell_type": "markdown",
   "metadata": {},
   "source": [
    "### Data Wrangling\n",
    "- __Discovering__ (data exploration)\n",
    "- __Structuring__ (data preparation)\n",
    "- __Cleaning__ (standardization, getting rid of superflous data)\n",
    "- Enriching (adding new datasets)\n",
    "- Validating (verifying the business validity)\n",
    "- Publishing\n",
    "\n",
    "source: https://www.onlinewhitepapers.com/information-technology/six-core-data-wrangling-activities/"
   ]
  },
  {
   "cell_type": "markdown",
   "metadata": {},
   "source": [
    "## Tidy Data"
   ]
  },
  {
   "cell_type": "markdown",
   "metadata": {},
   "source": [
    "Wickham, Hadley - _\"Tidy Data\"_\n",
    "https://www.jstatsoft.org/index.php/jss/article/view/v059i10/v59i10.pdf"
   ]
  },
  {
   "cell_type": "markdown",
   "metadata": {},
   "source": [
    "- __Each variable you measure should be in one column.__\n",
    "- __Each different observation of that variable should be in a different row.__\n",
    "- There should be one table for each \"kind\" of variable.\n",
    "- If you have multiple tables, they should include a column in the table that allows them to be linked."
   ]
  },
  {
   "cell_type": "markdown",
   "metadata": {},
   "source": [
    "## Pandas"
   ]
  },
  {
   "cell_type": "markdown",
   "metadata": {},
   "source": [
    "https://pandas.pydata.org/Pandas_Cheat_Sheet.pdf"
   ]
  },
  {
   "cell_type": "code",
   "execution_count": 18,
   "metadata": {},
   "outputs": [],
   "source": [
    "import pandas"
   ]
  },
  {
   "cell_type": "code",
   "execution_count": 19,
   "metadata": {},
   "outputs": [],
   "source": [
    "data = {'year': [2010, 2011, 2012, 2011, 2012, 2010, 2011, 2012],\n",
    "        'team': ['Bears', 'Bears', 'Bears', 'Packers', 'Packers', 'Lions',\n",
    "                 'Lions', 'Lions'],\n",
    "        'wins': [11, 8, 10, 15, 11, 6, 10, 4],\n",
    "        'losses': [5, 8, 6, 1, 5, 10, 6, 12]}"
   ]
  },
  {
   "cell_type": "code",
   "execution_count": 20,
   "metadata": {},
   "outputs": [
    {
     "name": "stdout",
     "output_type": "stream",
     "text": [
      "   year     team  wins  losses\n",
      "0  2010    Bears    11       5\n",
      "1  2011    Bears     8       8\n",
      "2  2012    Bears    10       6\n",
      "3  2011  Packers    15       1\n",
      "4  2012  Packers    11       5\n",
      "5  2010    Lions     6      10\n",
      "6  2011    Lions    10       6\n",
      "7  2012    Lions     4      12\n"
     ]
    }
   ],
   "source": [
    "import pandas \n",
    "\n",
    "football = pandas.DataFrame(data)\n",
    "print (football)"
   ]
  },
  {
   "cell_type": "code",
   "execution_count": 21,
   "metadata": {},
   "outputs": [
    {
     "data": {
      "text/html": [
       "<div>\n",
       "<style scoped>\n",
       "    .dataframe tbody tr th:only-of-type {\n",
       "        vertical-align: middle;\n",
       "    }\n",
       "\n",
       "    .dataframe tbody tr th {\n",
       "        vertical-align: top;\n",
       "    }\n",
       "\n",
       "    .dataframe thead th {\n",
       "        text-align: right;\n",
       "    }\n",
       "</style>\n",
       "<table border=\"1\" class=\"dataframe\">\n",
       "  <thead>\n",
       "    <tr style=\"text-align: right;\">\n",
       "      <th></th>\n",
       "      <th>year</th>\n",
       "      <th>team</th>\n",
       "      <th>wins</th>\n",
       "      <th>losses</th>\n",
       "    </tr>\n",
       "  </thead>\n",
       "  <tbody>\n",
       "    <tr>\n",
       "      <th>0</th>\n",
       "      <td>2010</td>\n",
       "      <td>Bears</td>\n",
       "      <td>11</td>\n",
       "      <td>5</td>\n",
       "    </tr>\n",
       "    <tr>\n",
       "      <th>1</th>\n",
       "      <td>2011</td>\n",
       "      <td>Bears</td>\n",
       "      <td>8</td>\n",
       "      <td>8</td>\n",
       "    </tr>\n",
       "    <tr>\n",
       "      <th>2</th>\n",
       "      <td>2012</td>\n",
       "      <td>Bears</td>\n",
       "      <td>10</td>\n",
       "      <td>6</td>\n",
       "    </tr>\n",
       "    <tr>\n",
       "      <th>3</th>\n",
       "      <td>2011</td>\n",
       "      <td>Packers</td>\n",
       "      <td>15</td>\n",
       "      <td>1</td>\n",
       "    </tr>\n",
       "    <tr>\n",
       "      <th>4</th>\n",
       "      <td>2012</td>\n",
       "      <td>Packers</td>\n",
       "      <td>11</td>\n",
       "      <td>5</td>\n",
       "    </tr>\n",
       "    <tr>\n",
       "      <th>5</th>\n",
       "      <td>2010</td>\n",
       "      <td>Lions</td>\n",
       "      <td>6</td>\n",
       "      <td>10</td>\n",
       "    </tr>\n",
       "    <tr>\n",
       "      <th>6</th>\n",
       "      <td>2011</td>\n",
       "      <td>Lions</td>\n",
       "      <td>10</td>\n",
       "      <td>6</td>\n",
       "    </tr>\n",
       "    <tr>\n",
       "      <th>7</th>\n",
       "      <td>2012</td>\n",
       "      <td>Lions</td>\n",
       "      <td>4</td>\n",
       "      <td>12</td>\n",
       "    </tr>\n",
       "  </tbody>\n",
       "</table>\n",
       "</div>"
      ],
      "text/plain": [
       "   year     team  wins  losses\n",
       "0  2010    Bears    11       5\n",
       "1  2011    Bears     8       8\n",
       "2  2012    Bears    10       6\n",
       "3  2011  Packers    15       1\n",
       "4  2012  Packers    11       5\n",
       "5  2010    Lions     6      10\n",
       "6  2011    Lions    10       6\n",
       "7  2012    Lions     4      12"
      ]
     },
     "execution_count": 21,
     "metadata": {},
     "output_type": "execute_result"
    }
   ],
   "source": [
    "football"
   ]
  },
  {
   "cell_type": "code",
   "execution_count": 22,
   "metadata": {},
   "outputs": [
    {
     "data": {
      "text/html": [
       "<div>\n",
       "<style scoped>\n",
       "    .dataframe tbody tr th:only-of-type {\n",
       "        vertical-align: middle;\n",
       "    }\n",
       "\n",
       "    .dataframe tbody tr th {\n",
       "        vertical-align: top;\n",
       "    }\n",
       "\n",
       "    .dataframe thead th {\n",
       "        text-align: right;\n",
       "    }\n",
       "</style>\n",
       "<table border=\"1\" class=\"dataframe\">\n",
       "  <thead>\n",
       "    <tr style=\"text-align: right;\">\n",
       "      <th></th>\n",
       "      <th>year</th>\n",
       "      <th>wins</th>\n",
       "      <th>losses</th>\n",
       "    </tr>\n",
       "  </thead>\n",
       "  <tbody>\n",
       "    <tr>\n",
       "      <th>count</th>\n",
       "      <td>8.000000</td>\n",
       "      <td>8.000000</td>\n",
       "      <td>8.000000</td>\n",
       "    </tr>\n",
       "    <tr>\n",
       "      <th>mean</th>\n",
       "      <td>2011.125000</td>\n",
       "      <td>9.375000</td>\n",
       "      <td>6.625000</td>\n",
       "    </tr>\n",
       "    <tr>\n",
       "      <th>std</th>\n",
       "      <td>0.834523</td>\n",
       "      <td>3.377975</td>\n",
       "      <td>3.377975</td>\n",
       "    </tr>\n",
       "    <tr>\n",
       "      <th>min</th>\n",
       "      <td>2010.000000</td>\n",
       "      <td>4.000000</td>\n",
       "      <td>1.000000</td>\n",
       "    </tr>\n",
       "    <tr>\n",
       "      <th>25%</th>\n",
       "      <td>2010.750000</td>\n",
       "      <td>7.500000</td>\n",
       "      <td>5.000000</td>\n",
       "    </tr>\n",
       "    <tr>\n",
       "      <th>50%</th>\n",
       "      <td>2011.000000</td>\n",
       "      <td>10.000000</td>\n",
       "      <td>6.000000</td>\n",
       "    </tr>\n",
       "    <tr>\n",
       "      <th>75%</th>\n",
       "      <td>2012.000000</td>\n",
       "      <td>11.000000</td>\n",
       "      <td>8.500000</td>\n",
       "    </tr>\n",
       "    <tr>\n",
       "      <th>max</th>\n",
       "      <td>2012.000000</td>\n",
       "      <td>15.000000</td>\n",
       "      <td>12.000000</td>\n",
       "    </tr>\n",
       "  </tbody>\n",
       "</table>\n",
       "</div>"
      ],
      "text/plain": [
       "              year       wins     losses\n",
       "count     8.000000   8.000000   8.000000\n",
       "mean   2011.125000   9.375000   6.625000\n",
       "std       0.834523   3.377975   3.377975\n",
       "min    2010.000000   4.000000   1.000000\n",
       "25%    2010.750000   7.500000   5.000000\n",
       "50%    2011.000000  10.000000   6.000000\n",
       "75%    2012.000000  11.000000   8.500000\n",
       "max    2012.000000  15.000000  12.000000"
      ]
     },
     "execution_count": 22,
     "metadata": {},
     "output_type": "execute_result"
    }
   ],
   "source": [
    "football.describe()"
   ]
  },
  {
   "cell_type": "code",
   "execution_count": 23,
   "metadata": {},
   "outputs": [
    {
     "data": {
      "text/plain": [
       "year       int64\n",
       "team      object\n",
       "wins       int64\n",
       "losses     int64\n",
       "dtype: object"
      ]
     },
     "execution_count": 23,
     "metadata": {},
     "output_type": "execute_result"
    }
   ],
   "source": [
    "football.dtypes"
   ]
  },
  {
   "cell_type": "code",
   "execution_count": 24,
   "metadata": {},
   "outputs": [
    {
     "data": {
      "text/html": [
       "<div>\n",
       "<style scoped>\n",
       "    .dataframe tbody tr th:only-of-type {\n",
       "        vertical-align: middle;\n",
       "    }\n",
       "\n",
       "    .dataframe tbody tr th {\n",
       "        vertical-align: top;\n",
       "    }\n",
       "\n",
       "    .dataframe thead th {\n",
       "        text-align: right;\n",
       "    }\n",
       "</style>\n",
       "<table border=\"1\" class=\"dataframe\">\n",
       "  <thead>\n",
       "    <tr style=\"text-align: right;\">\n",
       "      <th></th>\n",
       "      <th>year</th>\n",
       "      <th>team</th>\n",
       "      <th>wins</th>\n",
       "      <th>losses</th>\n",
       "    </tr>\n",
       "  </thead>\n",
       "  <tbody>\n",
       "    <tr>\n",
       "      <th>0</th>\n",
       "      <td>2010</td>\n",
       "      <td>Bears</td>\n",
       "      <td>11</td>\n",
       "      <td>5</td>\n",
       "    </tr>\n",
       "    <tr>\n",
       "      <th>1</th>\n",
       "      <td>2011</td>\n",
       "      <td>Bears</td>\n",
       "      <td>8</td>\n",
       "      <td>8</td>\n",
       "    </tr>\n",
       "    <tr>\n",
       "      <th>2</th>\n",
       "      <td>2012</td>\n",
       "      <td>Bears</td>\n",
       "      <td>10</td>\n",
       "      <td>6</td>\n",
       "    </tr>\n",
       "    <tr>\n",
       "      <th>3</th>\n",
       "      <td>2011</td>\n",
       "      <td>Packers</td>\n",
       "      <td>15</td>\n",
       "      <td>1</td>\n",
       "    </tr>\n",
       "    <tr>\n",
       "      <th>4</th>\n",
       "      <td>2012</td>\n",
       "      <td>Packers</td>\n",
       "      <td>11</td>\n",
       "      <td>5</td>\n",
       "    </tr>\n",
       "  </tbody>\n",
       "</table>\n",
       "</div>"
      ],
      "text/plain": [
       "   year     team  wins  losses\n",
       "0  2010    Bears    11       5\n",
       "1  2011    Bears     8       8\n",
       "2  2012    Bears    10       6\n",
       "3  2011  Packers    15       1\n",
       "4  2012  Packers    11       5"
      ]
     },
     "execution_count": 24,
     "metadata": {},
     "output_type": "execute_result"
    }
   ],
   "source": [
    "football.head()"
   ]
  },
  {
   "cell_type": "code",
   "execution_count": 25,
   "metadata": {},
   "outputs": [
    {
     "data": {
      "text/html": [
       "<div>\n",
       "<style scoped>\n",
       "    .dataframe tbody tr th:only-of-type {\n",
       "        vertical-align: middle;\n",
       "    }\n",
       "\n",
       "    .dataframe tbody tr th {\n",
       "        vertical-align: top;\n",
       "    }\n",
       "\n",
       "    .dataframe thead th {\n",
       "        text-align: right;\n",
       "    }\n",
       "</style>\n",
       "<table border=\"1\" class=\"dataframe\">\n",
       "  <thead>\n",
       "    <tr style=\"text-align: right;\">\n",
       "      <th></th>\n",
       "      <th>year</th>\n",
       "      <th>team</th>\n",
       "      <th>wins</th>\n",
       "      <th>losses</th>\n",
       "    </tr>\n",
       "  </thead>\n",
       "  <tbody>\n",
       "    <tr>\n",
       "      <th>3</th>\n",
       "      <td>2011</td>\n",
       "      <td>Packers</td>\n",
       "      <td>15</td>\n",
       "      <td>1</td>\n",
       "    </tr>\n",
       "    <tr>\n",
       "      <th>4</th>\n",
       "      <td>2012</td>\n",
       "      <td>Packers</td>\n",
       "      <td>11</td>\n",
       "      <td>5</td>\n",
       "    </tr>\n",
       "    <tr>\n",
       "      <th>5</th>\n",
       "      <td>2010</td>\n",
       "      <td>Lions</td>\n",
       "      <td>6</td>\n",
       "      <td>10</td>\n",
       "    </tr>\n",
       "    <tr>\n",
       "      <th>6</th>\n",
       "      <td>2011</td>\n",
       "      <td>Lions</td>\n",
       "      <td>10</td>\n",
       "      <td>6</td>\n",
       "    </tr>\n",
       "    <tr>\n",
       "      <th>7</th>\n",
       "      <td>2012</td>\n",
       "      <td>Lions</td>\n",
       "      <td>4</td>\n",
       "      <td>12</td>\n",
       "    </tr>\n",
       "  </tbody>\n",
       "</table>\n",
       "</div>"
      ],
      "text/plain": [
       "   year     team  wins  losses\n",
       "3  2011  Packers    15       1\n",
       "4  2012  Packers    11       5\n",
       "5  2010    Lions     6      10\n",
       "6  2011    Lions    10       6\n",
       "7  2012    Lions     4      12"
      ]
     },
     "execution_count": 25,
     "metadata": {},
     "output_type": "execute_result"
    }
   ],
   "source": [
    "football.tail()"
   ]
  },
  {
   "cell_type": "code",
   "execution_count": 27,
   "metadata": {},
   "outputs": [
    {
     "data": {
      "text/html": [
       "<div>\n",
       "<style scoped>\n",
       "    .dataframe tbody tr th:only-of-type {\n",
       "        vertical-align: middle;\n",
       "    }\n",
       "\n",
       "    .dataframe tbody tr th {\n",
       "        vertical-align: top;\n",
       "    }\n",
       "\n",
       "    .dataframe thead th {\n",
       "        text-align: right;\n",
       "    }\n",
       "</style>\n",
       "<table border=\"1\" class=\"dataframe\">\n",
       "  <thead>\n",
       "    <tr style=\"text-align: right;\">\n",
       "      <th></th>\n",
       "      <th>year</th>\n",
       "      <th>team</th>\n",
       "      <th>wins</th>\n",
       "      <th>losses</th>\n",
       "    </tr>\n",
       "  </thead>\n",
       "  <tbody>\n",
       "    <tr>\n",
       "      <th>4</th>\n",
       "      <td>2012</td>\n",
       "      <td>Packers</td>\n",
       "      <td>11</td>\n",
       "      <td>5</td>\n",
       "    </tr>\n",
       "    <tr>\n",
       "      <th>5</th>\n",
       "      <td>2010</td>\n",
       "      <td>Lions</td>\n",
       "      <td>6</td>\n",
       "      <td>10</td>\n",
       "    </tr>\n",
       "    <tr>\n",
       "      <th>0</th>\n",
       "      <td>2010</td>\n",
       "      <td>Bears</td>\n",
       "      <td>11</td>\n",
       "      <td>5</td>\n",
       "    </tr>\n",
       "    <tr>\n",
       "      <th>2</th>\n",
       "      <td>2012</td>\n",
       "      <td>Bears</td>\n",
       "      <td>10</td>\n",
       "      <td>6</td>\n",
       "    </tr>\n",
       "    <tr>\n",
       "      <th>3</th>\n",
       "      <td>2011</td>\n",
       "      <td>Packers</td>\n",
       "      <td>15</td>\n",
       "      <td>1</td>\n",
       "    </tr>\n",
       "  </tbody>\n",
       "</table>\n",
       "</div>"
      ],
      "text/plain": [
       "   year     team  wins  losses\n",
       "4  2012  Packers    11       5\n",
       "5  2010    Lions     6      10\n",
       "0  2010    Bears    11       5\n",
       "2  2012    Bears    10       6\n",
       "3  2011  Packers    15       1"
      ]
     },
     "execution_count": 27,
     "metadata": {},
     "output_type": "execute_result"
    }
   ],
   "source": [
    "footballc"
   ]
  },
  {
   "cell_type": "code",
   "execution_count": 28,
   "metadata": {},
   "outputs": [
    {
     "data": {
      "text/plain": [
       "0    2010\n",
       "1    2011\n",
       "2    2012\n",
       "3    2011\n",
       "4    2012\n",
       "5    2010\n",
       "6    2011\n",
       "7    2012\n",
       "Name: year, dtype: int64"
      ]
     },
     "execution_count": 28,
     "metadata": {},
     "output_type": "execute_result"
    }
   ],
   "source": [
    "football['year']"
   ]
  },
  {
   "cell_type": "code",
   "execution_count": 29,
   "metadata": {},
   "outputs": [
    {
     "data": {
      "text/plain": [
       "0    2010\n",
       "1    2011\n",
       "2    2012\n",
       "3    2011\n",
       "4    2012\n",
       "5    2010\n",
       "6    2011\n",
       "7    2012\n",
       "Name: year, dtype: int64"
      ]
     },
     "execution_count": 29,
     "metadata": {},
     "output_type": "execute_result"
    }
   ],
   "source": [
    "football.year"
   ]
  },
  {
   "cell_type": "code",
   "execution_count": 32,
   "metadata": {},
   "outputs": [
    {
     "data": {
      "text/html": [
       "<div>\n",
       "<style scoped>\n",
       "    .dataframe tbody tr th:only-of-type {\n",
       "        vertical-align: middle;\n",
       "    }\n",
       "\n",
       "    .dataframe tbody tr th {\n",
       "        vertical-align: top;\n",
       "    }\n",
       "\n",
       "    .dataframe thead th {\n",
       "        text-align: right;\n",
       "    }\n",
       "</style>\n",
       "<table border=\"1\" class=\"dataframe\">\n",
       "  <thead>\n",
       "    <tr style=\"text-align: right;\">\n",
       "      <th></th>\n",
       "      <th>year</th>\n",
       "      <th>team</th>\n",
       "      <th>wins</th>\n",
       "    </tr>\n",
       "  </thead>\n",
       "  <tbody>\n",
       "    <tr>\n",
       "      <th>0</th>\n",
       "      <td>2010</td>\n",
       "      <td>Bears</td>\n",
       "      <td>11</td>\n",
       "    </tr>\n",
       "    <tr>\n",
       "      <th>1</th>\n",
       "      <td>2011</td>\n",
       "      <td>Bears</td>\n",
       "      <td>8</td>\n",
       "    </tr>\n",
       "    <tr>\n",
       "      <th>2</th>\n",
       "      <td>2012</td>\n",
       "      <td>Bears</td>\n",
       "      <td>10</td>\n",
       "    </tr>\n",
       "    <tr>\n",
       "      <th>3</th>\n",
       "      <td>2011</td>\n",
       "      <td>Packers</td>\n",
       "      <td>15</td>\n",
       "    </tr>\n",
       "    <tr>\n",
       "      <th>4</th>\n",
       "      <td>2012</td>\n",
       "      <td>Packers</td>\n",
       "      <td>11</td>\n",
       "    </tr>\n",
       "    <tr>\n",
       "      <th>5</th>\n",
       "      <td>2010</td>\n",
       "      <td>Lions</td>\n",
       "      <td>6</td>\n",
       "    </tr>\n",
       "    <tr>\n",
       "      <th>6</th>\n",
       "      <td>2011</td>\n",
       "      <td>Lions</td>\n",
       "      <td>10</td>\n",
       "    </tr>\n",
       "    <tr>\n",
       "      <th>7</th>\n",
       "      <td>2012</td>\n",
       "      <td>Lions</td>\n",
       "      <td>4</td>\n",
       "    </tr>\n",
       "  </tbody>\n",
       "</table>\n",
       "</div>"
      ],
      "text/plain": [
       "   year     team  wins\n",
       "0  2010    Bears    11\n",
       "1  2011    Bears     8\n",
       "2  2012    Bears    10\n",
       "3  2011  Packers    15\n",
       "4  2012  Packers    11\n",
       "5  2010    Lions     6\n",
       "6  2011    Lions    10\n",
       "7  2012    Lions     4"
      ]
     },
     "execution_count": 32,
     "metadata": {},
     "output_type": "execute_result"
    }
   ],
   "source": [
    "football[['year', 'team', 'wins']]"
   ]
  },
  {
   "cell_type": "markdown",
   "metadata": {},
   "source": [
    "---\n",
    "\n",
    "## Row Selection\n",
    "\n",
    "\n",
    "1. Slicing\n",
    "2. Individual index (iloc / loc)\n",
    "3. Boolean indexing\n",
    "4. Combination"
   ]
  },
  {
   "cell_type": "markdown",
   "metadata": {},
   "source": [
    "### Slicing"
   ]
  },
  {
   "cell_type": "code",
   "execution_count": 33,
   "metadata": {},
   "outputs": [
    {
     "data": {
      "text/html": [
       "<div>\n",
       "<style scoped>\n",
       "    .dataframe tbody tr th:only-of-type {\n",
       "        vertical-align: middle;\n",
       "    }\n",
       "\n",
       "    .dataframe tbody tr th {\n",
       "        vertical-align: top;\n",
       "    }\n",
       "\n",
       "    .dataframe thead th {\n",
       "        text-align: right;\n",
       "    }\n",
       "</style>\n",
       "<table border=\"1\" class=\"dataframe\">\n",
       "  <thead>\n",
       "    <tr style=\"text-align: right;\">\n",
       "      <th></th>\n",
       "      <th>year</th>\n",
       "      <th>team</th>\n",
       "      <th>wins</th>\n",
       "      <th>losses</th>\n",
       "    </tr>\n",
       "  </thead>\n",
       "  <tbody>\n",
       "    <tr>\n",
       "      <th>0</th>\n",
       "      <td>2010</td>\n",
       "      <td>Bears</td>\n",
       "      <td>11</td>\n",
       "      <td>5</td>\n",
       "    </tr>\n",
       "    <tr>\n",
       "      <th>1</th>\n",
       "      <td>2011</td>\n",
       "      <td>Bears</td>\n",
       "      <td>8</td>\n",
       "      <td>8</td>\n",
       "    </tr>\n",
       "    <tr>\n",
       "      <th>2</th>\n",
       "      <td>2012</td>\n",
       "      <td>Bears</td>\n",
       "      <td>10</td>\n",
       "      <td>6</td>\n",
       "    </tr>\n",
       "    <tr>\n",
       "      <th>3</th>\n",
       "      <td>2011</td>\n",
       "      <td>Packers</td>\n",
       "      <td>15</td>\n",
       "      <td>1</td>\n",
       "    </tr>\n",
       "    <tr>\n",
       "      <th>4</th>\n",
       "      <td>2012</td>\n",
       "      <td>Packers</td>\n",
       "      <td>11</td>\n",
       "      <td>5</td>\n",
       "    </tr>\n",
       "    <tr>\n",
       "      <th>5</th>\n",
       "      <td>2010</td>\n",
       "      <td>Lions</td>\n",
       "      <td>6</td>\n",
       "      <td>10</td>\n",
       "    </tr>\n",
       "    <tr>\n",
       "      <th>6</th>\n",
       "      <td>2011</td>\n",
       "      <td>Lions</td>\n",
       "      <td>10</td>\n",
       "      <td>6</td>\n",
       "    </tr>\n",
       "    <tr>\n",
       "      <th>7</th>\n",
       "      <td>2012</td>\n",
       "      <td>Lions</td>\n",
       "      <td>4</td>\n",
       "      <td>12</td>\n",
       "    </tr>\n",
       "  </tbody>\n",
       "</table>\n",
       "</div>"
      ],
      "text/plain": [
       "   year     team  wins  losses\n",
       "0  2010    Bears    11       5\n",
       "1  2011    Bears     8       8\n",
       "2  2012    Bears    10       6\n",
       "3  2011  Packers    15       1\n",
       "4  2012  Packers    11       5\n",
       "5  2010    Lions     6      10\n",
       "6  2011    Lions    10       6\n",
       "7  2012    Lions     4      12"
      ]
     },
     "execution_count": 33,
     "metadata": {},
     "output_type": "execute_result"
    }
   ],
   "source": [
    "football"
   ]
  },
  {
   "cell_type": "code",
   "execution_count": 34,
   "metadata": {},
   "outputs": [
    {
     "data": {
      "text/html": [
       "<div>\n",
       "<style scoped>\n",
       "    .dataframe tbody tr th:only-of-type {\n",
       "        vertical-align: middle;\n",
       "    }\n",
       "\n",
       "    .dataframe tbody tr th {\n",
       "        vertical-align: top;\n",
       "    }\n",
       "\n",
       "    .dataframe thead th {\n",
       "        text-align: right;\n",
       "    }\n",
       "</style>\n",
       "<table border=\"1\" class=\"dataframe\">\n",
       "  <thead>\n",
       "    <tr style=\"text-align: right;\">\n",
       "      <th></th>\n",
       "      <th>year</th>\n",
       "      <th>team</th>\n",
       "      <th>wins</th>\n",
       "      <th>losses</th>\n",
       "    </tr>\n",
       "  </thead>\n",
       "  <tbody>\n",
       "    <tr>\n",
       "      <th>3</th>\n",
       "      <td>2011</td>\n",
       "      <td>Packers</td>\n",
       "      <td>15</td>\n",
       "      <td>1</td>\n",
       "    </tr>\n",
       "    <tr>\n",
       "      <th>4</th>\n",
       "      <td>2012</td>\n",
       "      <td>Packers</td>\n",
       "      <td>11</td>\n",
       "      <td>5</td>\n",
       "    </tr>\n",
       "  </tbody>\n",
       "</table>\n",
       "</div>"
      ],
      "text/plain": [
       "   year     team  wins  losses\n",
       "3  2011  Packers    15       1\n",
       "4  2012  Packers    11       5"
      ]
     },
     "execution_count": 34,
     "metadata": {},
     "output_type": "execute_result"
    }
   ],
   "source": [
    "football[3:5]"
   ]
  },
  {
   "cell_type": "code",
   "execution_count": 39,
   "metadata": {},
   "outputs": [
    {
     "data": {
      "text/plain": [
       "[0, 1, 4, 9, 16, 25, 36, 49, 64, 81]"
      ]
     },
     "execution_count": 39,
     "metadata": {},
     "output_type": "execute_result"
    }
   ],
   "source": [
    "a = [ x*x for x in range(10)]\n",
    "a"
   ]
  },
  {
   "cell_type": "code",
   "execution_count": 40,
   "metadata": {},
   "outputs": [
    {
     "data": {
      "text/plain": [
       "[9, 16]"
      ]
     },
     "execution_count": 40,
     "metadata": {},
     "output_type": "execute_result"
    }
   ],
   "source": [
    "a[3:5]"
   ]
  },
  {
   "cell_type": "markdown",
   "metadata": {},
   "source": [
    "### Individual index"
   ]
  },
  {
   "cell_type": "markdown",
   "metadata": {},
   "source": [
    "### iloc\n",
    "- An integer, e.g. 5.\n",
    "- A list or array of integers, e.g. [4, 3, 0].\n",
    "- A slice object with ints, e.g. 1:7.\n",
    "- A boolean array.\n",
    "- A function"
   ]
  },
  {
   "cell_type": "code",
   "execution_count": 41,
   "metadata": {},
   "outputs": [
    {
     "data": {
      "text/html": [
       "<div>\n",
       "<style scoped>\n",
       "    .dataframe tbody tr th:only-of-type {\n",
       "        vertical-align: middle;\n",
       "    }\n",
       "\n",
       "    .dataframe tbody tr th {\n",
       "        vertical-align: top;\n",
       "    }\n",
       "\n",
       "    .dataframe thead th {\n",
       "        text-align: right;\n",
       "    }\n",
       "</style>\n",
       "<table border=\"1\" class=\"dataframe\">\n",
       "  <thead>\n",
       "    <tr style=\"text-align: right;\">\n",
       "      <th></th>\n",
       "      <th>year</th>\n",
       "      <th>team</th>\n",
       "      <th>wins</th>\n",
       "      <th>losses</th>\n",
       "    </tr>\n",
       "  </thead>\n",
       "  <tbody>\n",
       "    <tr>\n",
       "      <th>0</th>\n",
       "      <td>2010</td>\n",
       "      <td>Bears</td>\n",
       "      <td>11</td>\n",
       "      <td>5</td>\n",
       "    </tr>\n",
       "    <tr>\n",
       "      <th>3</th>\n",
       "      <td>2011</td>\n",
       "      <td>Packers</td>\n",
       "      <td>15</td>\n",
       "      <td>1</td>\n",
       "    </tr>\n",
       "  </tbody>\n",
       "</table>\n",
       "</div>"
      ],
      "text/plain": [
       "   year     team  wins  losses\n",
       "0  2010    Bears    11       5\n",
       "3  2011  Packers    15       1"
      ]
     },
     "execution_count": 41,
     "metadata": {},
     "output_type": "execute_result"
    }
   ],
   "source": [
    "football.iloc[[0,3]]"
   ]
  },
  {
   "cell_type": "code",
   "execution_count": 42,
   "metadata": {},
   "outputs": [
    {
     "data": {
      "text/plain": [
       "year       2012\n",
       "team      Bears\n",
       "wins         10\n",
       "losses        6\n",
       "Name: 2, dtype: object"
      ]
     },
     "execution_count": 42,
     "metadata": {},
     "output_type": "execute_result"
    }
   ],
   "source": [
    "football.iloc[2]"
   ]
  },
  {
   "cell_type": "code",
   "execution_count": 43,
   "metadata": {},
   "outputs": [
    {
     "data": {
      "text/html": [
       "<div>\n",
       "<style scoped>\n",
       "    .dataframe tbody tr th:only-of-type {\n",
       "        vertical-align: middle;\n",
       "    }\n",
       "\n",
       "    .dataframe tbody tr th {\n",
       "        vertical-align: top;\n",
       "    }\n",
       "\n",
       "    .dataframe thead th {\n",
       "        text-align: right;\n",
       "    }\n",
       "</style>\n",
       "<table border=\"1\" class=\"dataframe\">\n",
       "  <thead>\n",
       "    <tr style=\"text-align: right;\">\n",
       "      <th></th>\n",
       "      <th>year</th>\n",
       "      <th>team</th>\n",
       "      <th>wins</th>\n",
       "      <th>losses</th>\n",
       "    </tr>\n",
       "  </thead>\n",
       "  <tbody>\n",
       "    <tr>\n",
       "      <th>3</th>\n",
       "      <td>2011</td>\n",
       "      <td>Packers</td>\n",
       "      <td>15</td>\n",
       "      <td>1</td>\n",
       "    </tr>\n",
       "    <tr>\n",
       "      <th>4</th>\n",
       "      <td>2012</td>\n",
       "      <td>Packers</td>\n",
       "      <td>11</td>\n",
       "      <td>5</td>\n",
       "    </tr>\n",
       "  </tbody>\n",
       "</table>\n",
       "</div>"
      ],
      "text/plain": [
       "   year     team  wins  losses\n",
       "3  2011  Packers    15       1\n",
       "4  2012  Packers    11       5"
      ]
     },
     "execution_count": 43,
     "metadata": {},
     "output_type": "execute_result"
    }
   ],
   "source": [
    "football.iloc[3:5]"
   ]
  },
  {
   "cell_type": "code",
   "execution_count": 44,
   "metadata": {},
   "outputs": [
    {
     "data": {
      "text/html": [
       "<div>\n",
       "<style scoped>\n",
       "    .dataframe tbody tr th:only-of-type {\n",
       "        vertical-align: middle;\n",
       "    }\n",
       "\n",
       "    .dataframe tbody tr th {\n",
       "        vertical-align: top;\n",
       "    }\n",
       "\n",
       "    .dataframe thead th {\n",
       "        text-align: right;\n",
       "    }\n",
       "</style>\n",
       "<table border=\"1\" class=\"dataframe\">\n",
       "  <thead>\n",
       "    <tr style=\"text-align: right;\">\n",
       "      <th></th>\n",
       "      <th>year</th>\n",
       "      <th>team</th>\n",
       "      <th>wins</th>\n",
       "      <th>losses</th>\n",
       "    </tr>\n",
       "  </thead>\n",
       "  <tbody>\n",
       "    <tr>\n",
       "      <th>0</th>\n",
       "      <td>2010</td>\n",
       "      <td>Bears</td>\n",
       "      <td>11</td>\n",
       "      <td>5</td>\n",
       "    </tr>\n",
       "    <tr>\n",
       "      <th>2</th>\n",
       "      <td>2012</td>\n",
       "      <td>Bears</td>\n",
       "      <td>10</td>\n",
       "      <td>6</td>\n",
       "    </tr>\n",
       "  </tbody>\n",
       "</table>\n",
       "</div>"
      ],
      "text/plain": [
       "   year   team  wins  losses\n",
       "0  2010  Bears    11       5\n",
       "2  2012  Bears    10       6"
      ]
     },
     "execution_count": 44,
     "metadata": {},
     "output_type": "execute_result"
    }
   ],
   "source": [
    "football.iloc[[True,False,True,False,False,False,False, False]]"
   ]
  },
  {
   "cell_type": "markdown",
   "metadata": {},
   "source": [
    "### loc\n",
    "- A single label\n",
    "- A list or array of labels, e.g. ['a', 'b', 'c'].\n",
    "- A slice object with labels, e.g. 'a':'f' __(WARNING - both the start and the stop are included)__ \n",
    "- A boolean array\n",
    "- A callable function "
   ]
  },
  {
   "cell_type": "code",
   "execution_count": 45,
   "metadata": {},
   "outputs": [
    {
     "data": {
      "text/html": [
       "<div>\n",
       "<style scoped>\n",
       "    .dataframe tbody tr th:only-of-type {\n",
       "        vertical-align: middle;\n",
       "    }\n",
       "\n",
       "    .dataframe tbody tr th {\n",
       "        vertical-align: top;\n",
       "    }\n",
       "\n",
       "    .dataframe thead th {\n",
       "        text-align: right;\n",
       "    }\n",
       "</style>\n",
       "<table border=\"1\" class=\"dataframe\">\n",
       "  <thead>\n",
       "    <tr style=\"text-align: right;\">\n",
       "      <th></th>\n",
       "      <th>A</th>\n",
       "      <th>B</th>\n",
       "      <th>C</th>\n",
       "    </tr>\n",
       "  </thead>\n",
       "  <tbody>\n",
       "    <tr>\n",
       "      <th>2000-01-01</th>\n",
       "      <td>-0.529746</td>\n",
       "      <td>1.129327</td>\n",
       "      <td>-1.263318</td>\n",
       "    </tr>\n",
       "    <tr>\n",
       "      <th>2000-01-02</th>\n",
       "      <td>0.414268</td>\n",
       "      <td>-1.211658</td>\n",
       "      <td>0.879194</td>\n",
       "    </tr>\n",
       "    <tr>\n",
       "      <th>2000-01-03</th>\n",
       "      <td>-0.583975</td>\n",
       "      <td>-0.755551</td>\n",
       "      <td>-1.302686</td>\n",
       "    </tr>\n",
       "    <tr>\n",
       "      <th>2000-01-04</th>\n",
       "      <td>-0.409075</td>\n",
       "      <td>0.378425</td>\n",
       "      <td>1.802556</td>\n",
       "    </tr>\n",
       "    <tr>\n",
       "      <th>2000-01-05</th>\n",
       "      <td>0.222384</td>\n",
       "      <td>0.922392</td>\n",
       "      <td>0.319765</td>\n",
       "    </tr>\n",
       "    <tr>\n",
       "      <th>2000-01-06</th>\n",
       "      <td>0.695072</td>\n",
       "      <td>-1.205148</td>\n",
       "      <td>-0.459194</td>\n",
       "    </tr>\n",
       "    <tr>\n",
       "      <th>2000-01-07</th>\n",
       "      <td>0.391734</td>\n",
       "      <td>0.308483</td>\n",
       "      <td>-0.677213</td>\n",
       "    </tr>\n",
       "    <tr>\n",
       "      <th>2000-01-08</th>\n",
       "      <td>0.383917</td>\n",
       "      <td>1.224267</td>\n",
       "      <td>-1.090281</td>\n",
       "    </tr>\n",
       "  </tbody>\n",
       "</table>\n",
       "</div>"
      ],
      "text/plain": [
       "                   A         B         C\n",
       "2000-01-01 -0.529746  1.129327 -1.263318\n",
       "2000-01-02  0.414268 -1.211658  0.879194\n",
       "2000-01-03 -0.583975 -0.755551 -1.302686\n",
       "2000-01-04 -0.409075  0.378425  1.802556\n",
       "2000-01-05  0.222384  0.922392  0.319765\n",
       "2000-01-06  0.695072 -1.205148 -0.459194\n",
       "2000-01-07  0.391734  0.308483 -0.677213\n",
       "2000-01-08  0.383917  1.224267 -1.090281"
      ]
     },
     "execution_count": 45,
     "metadata": {},
     "output_type": "execute_result"
    }
   ],
   "source": [
    "import numpy as np\n",
    "import pandas as pd\n",
    "\n",
    "index = pd.date_range('1/1/2000', periods=8)\n",
    "df = pd.DataFrame(np.random.randn(8, 3), index=index, columns=['A', 'B', 'C'])\n",
    "df"
   ]
  },
  {
   "cell_type": "code",
   "execution_count": 46,
   "metadata": {},
   "outputs": [
    {
     "data": {
      "text/plain": [
       "A   -0.583975\n",
       "B   -0.755551\n",
       "C   -1.302686\n",
       "Name: 2000-01-03 00:00:00, dtype: float64"
      ]
     },
     "execution_count": 46,
     "metadata": {},
     "output_type": "execute_result"
    }
   ],
   "source": [
    "df.loc['2000-01-03']"
   ]
  },
  {
   "cell_type": "code",
   "execution_count": 47,
   "metadata": {},
   "outputs": [
    {
     "data": {
      "text/html": [
       "<div>\n",
       "<style scoped>\n",
       "    .dataframe tbody tr th:only-of-type {\n",
       "        vertical-align: middle;\n",
       "    }\n",
       "\n",
       "    .dataframe tbody tr th {\n",
       "        vertical-align: top;\n",
       "    }\n",
       "\n",
       "    .dataframe thead th {\n",
       "        text-align: right;\n",
       "    }\n",
       "</style>\n",
       "<table border=\"1\" class=\"dataframe\">\n",
       "  <thead>\n",
       "    <tr style=\"text-align: right;\">\n",
       "      <th></th>\n",
       "      <th>A</th>\n",
       "      <th>B</th>\n",
       "      <th>C</th>\n",
       "    </tr>\n",
       "  </thead>\n",
       "  <tbody>\n",
       "    <tr>\n",
       "      <th>2000-01-03</th>\n",
       "      <td>-0.583975</td>\n",
       "      <td>-0.755551</td>\n",
       "      <td>-1.302686</td>\n",
       "    </tr>\n",
       "    <tr>\n",
       "      <th>2000-01-04</th>\n",
       "      <td>-0.409075</td>\n",
       "      <td>0.378425</td>\n",
       "      <td>1.802556</td>\n",
       "    </tr>\n",
       "  </tbody>\n",
       "</table>\n",
       "</div>"
      ],
      "text/plain": [
       "                   A         B         C\n",
       "2000-01-03 -0.583975 -0.755551 -1.302686\n",
       "2000-01-04 -0.409075  0.378425  1.802556"
      ]
     },
     "execution_count": 47,
     "metadata": {},
     "output_type": "execute_result"
    }
   ],
   "source": [
    "df.loc['2000-01-03': '2000-01-04'] "
   ]
  },
  {
   "cell_type": "markdown",
   "metadata": {},
   "source": [
    "### Boolean indexing"
   ]
  },
  {
   "cell_type": "code",
   "execution_count": 48,
   "metadata": {},
   "outputs": [
    {
     "data": {
      "text/html": [
       "<div>\n",
       "<style scoped>\n",
       "    .dataframe tbody tr th:only-of-type {\n",
       "        vertical-align: middle;\n",
       "    }\n",
       "\n",
       "    .dataframe tbody tr th {\n",
       "        vertical-align: top;\n",
       "    }\n",
       "\n",
       "    .dataframe thead th {\n",
       "        text-align: right;\n",
       "    }\n",
       "</style>\n",
       "<table border=\"1\" class=\"dataframe\">\n",
       "  <thead>\n",
       "    <tr style=\"text-align: right;\">\n",
       "      <th></th>\n",
       "      <th>year</th>\n",
       "      <th>team</th>\n",
       "      <th>wins</th>\n",
       "      <th>losses</th>\n",
       "    </tr>\n",
       "  </thead>\n",
       "  <tbody>\n",
       "    <tr>\n",
       "      <th>0</th>\n",
       "      <td>2010</td>\n",
       "      <td>Bears</td>\n",
       "      <td>11</td>\n",
       "      <td>5</td>\n",
       "    </tr>\n",
       "    <tr>\n",
       "      <th>3</th>\n",
       "      <td>2011</td>\n",
       "      <td>Packers</td>\n",
       "      <td>15</td>\n",
       "      <td>1</td>\n",
       "    </tr>\n",
       "    <tr>\n",
       "      <th>4</th>\n",
       "      <td>2012</td>\n",
       "      <td>Packers</td>\n",
       "      <td>11</td>\n",
       "      <td>5</td>\n",
       "    </tr>\n",
       "  </tbody>\n",
       "</table>\n",
       "</div>"
      ],
      "text/plain": [
       "   year     team  wins  losses\n",
       "0  2010    Bears    11       5\n",
       "3  2011  Packers    15       1\n",
       "4  2012  Packers    11       5"
      ]
     },
     "execution_count": 48,
     "metadata": {},
     "output_type": "execute_result"
    }
   ],
   "source": [
    "football[football.wins > 10]"
   ]
  },
  {
   "cell_type": "markdown",
   "metadata": {},
   "source": [
    "### Combination"
   ]
  },
  {
   "cell_type": "code",
   "execution_count": 49,
   "metadata": {},
   "outputs": [
    {
     "data": {
      "text/html": [
       "<div>\n",
       "<style scoped>\n",
       "    .dataframe tbody tr th:only-of-type {\n",
       "        vertical-align: middle;\n",
       "    }\n",
       "\n",
       "    .dataframe tbody tr th {\n",
       "        vertical-align: top;\n",
       "    }\n",
       "\n",
       "    .dataframe thead th {\n",
       "        text-align: right;\n",
       "    }\n",
       "</style>\n",
       "<table border=\"1\" class=\"dataframe\">\n",
       "  <thead>\n",
       "    <tr style=\"text-align: right;\">\n",
       "      <th></th>\n",
       "      <th>year</th>\n",
       "      <th>team</th>\n",
       "      <th>wins</th>\n",
       "      <th>losses</th>\n",
       "    </tr>\n",
       "  </thead>\n",
       "  <tbody>\n",
       "    <tr>\n",
       "      <th>0</th>\n",
       "      <td>2010</td>\n",
       "      <td>Bears</td>\n",
       "      <td>11</td>\n",
       "      <td>5</td>\n",
       "    </tr>\n",
       "    <tr>\n",
       "      <th>1</th>\n",
       "      <td>2011</td>\n",
       "      <td>Bears</td>\n",
       "      <td>8</td>\n",
       "      <td>8</td>\n",
       "    </tr>\n",
       "    <tr>\n",
       "      <th>2</th>\n",
       "      <td>2012</td>\n",
       "      <td>Bears</td>\n",
       "      <td>10</td>\n",
       "      <td>6</td>\n",
       "    </tr>\n",
       "    <tr>\n",
       "      <th>3</th>\n",
       "      <td>2011</td>\n",
       "      <td>Packers</td>\n",
       "      <td>15</td>\n",
       "      <td>1</td>\n",
       "    </tr>\n",
       "    <tr>\n",
       "      <th>4</th>\n",
       "      <td>2012</td>\n",
       "      <td>Packers</td>\n",
       "      <td>11</td>\n",
       "      <td>5</td>\n",
       "    </tr>\n",
       "    <tr>\n",
       "      <th>5</th>\n",
       "      <td>2010</td>\n",
       "      <td>Lions</td>\n",
       "      <td>6</td>\n",
       "      <td>10</td>\n",
       "    </tr>\n",
       "    <tr>\n",
       "      <th>6</th>\n",
       "      <td>2011</td>\n",
       "      <td>Lions</td>\n",
       "      <td>10</td>\n",
       "      <td>6</td>\n",
       "    </tr>\n",
       "    <tr>\n",
       "      <th>7</th>\n",
       "      <td>2012</td>\n",
       "      <td>Lions</td>\n",
       "      <td>4</td>\n",
       "      <td>12</td>\n",
       "    </tr>\n",
       "  </tbody>\n",
       "</table>\n",
       "</div>"
      ],
      "text/plain": [
       "   year     team  wins  losses\n",
       "0  2010    Bears    11       5\n",
       "1  2011    Bears     8       8\n",
       "2  2012    Bears    10       6\n",
       "3  2011  Packers    15       1\n",
       "4  2012  Packers    11       5\n",
       "5  2010    Lions     6      10\n",
       "6  2011    Lions    10       6\n",
       "7  2012    Lions     4      12"
      ]
     },
     "execution_count": 49,
     "metadata": {},
     "output_type": "execute_result"
    }
   ],
   "source": [
    "football"
   ]
  },
  {
   "cell_type": "code",
   "execution_count": 50,
   "metadata": {},
   "outputs": [
    {
     "data": {
      "text/html": [
       "<div>\n",
       "<style scoped>\n",
       "    .dataframe tbody tr th:only-of-type {\n",
       "        vertical-align: middle;\n",
       "    }\n",
       "\n",
       "    .dataframe tbody tr th {\n",
       "        vertical-align: top;\n",
       "    }\n",
       "\n",
       "    .dataframe thead th {\n",
       "        text-align: right;\n",
       "    }\n",
       "</style>\n",
       "<table border=\"1\" class=\"dataframe\">\n",
       "  <thead>\n",
       "    <tr style=\"text-align: right;\">\n",
       "      <th></th>\n",
       "      <th>year</th>\n",
       "      <th>team</th>\n",
       "      <th>wins</th>\n",
       "      <th>losses</th>\n",
       "    </tr>\n",
       "  </thead>\n",
       "  <tbody>\n",
       "    <tr>\n",
       "      <th>3</th>\n",
       "      <td>2011</td>\n",
       "      <td>Packers</td>\n",
       "      <td>15</td>\n",
       "      <td>1</td>\n",
       "    </tr>\n",
       "    <tr>\n",
       "      <th>4</th>\n",
       "      <td>2012</td>\n",
       "      <td>Packers</td>\n",
       "      <td>11</td>\n",
       "      <td>5</td>\n",
       "    </tr>\n",
       "  </tbody>\n",
       "</table>\n",
       "</div>"
      ],
      "text/plain": [
       "   year     team  wins  losses\n",
       "3  2011  Packers    15       1\n",
       "4  2012  Packers    11       5"
      ]
     },
     "execution_count": 50,
     "metadata": {},
     "output_type": "execute_result"
    }
   ],
   "source": [
    "football[(football.wins > 10) & (football.team == \"Packers\")]"
   ]
  },
  {
   "cell_type": "code",
   "execution_count": 51,
   "metadata": {},
   "outputs": [
    {
     "data": {
      "text/html": [
       "<div>\n",
       "<style scoped>\n",
       "    .dataframe tbody tr th:only-of-type {\n",
       "        vertical-align: middle;\n",
       "    }\n",
       "\n",
       "    .dataframe tbody tr th {\n",
       "        vertical-align: top;\n",
       "    }\n",
       "\n",
       "    .dataframe thead th {\n",
       "        text-align: right;\n",
       "    }\n",
       "</style>\n",
       "<table border=\"1\" class=\"dataframe\">\n",
       "  <thead>\n",
       "    <tr style=\"text-align: right;\">\n",
       "      <th></th>\n",
       "      <th>year</th>\n",
       "      <th>team</th>\n",
       "      <th>wins</th>\n",
       "      <th>losses</th>\n",
       "    </tr>\n",
       "  </thead>\n",
       "  <tbody>\n",
       "    <tr>\n",
       "      <th>0</th>\n",
       "      <td>2010</td>\n",
       "      <td>Bears</td>\n",
       "      <td>11</td>\n",
       "      <td>5</td>\n",
       "    </tr>\n",
       "    <tr>\n",
       "      <th>3</th>\n",
       "      <td>2011</td>\n",
       "      <td>Packers</td>\n",
       "      <td>15</td>\n",
       "      <td>1</td>\n",
       "    </tr>\n",
       "    <tr>\n",
       "      <th>4</th>\n",
       "      <td>2012</td>\n",
       "      <td>Packers</td>\n",
       "      <td>11</td>\n",
       "      <td>5</td>\n",
       "    </tr>\n",
       "  </tbody>\n",
       "</table>\n",
       "</div>"
      ],
      "text/plain": [
       "   year     team  wins  losses\n",
       "0  2010    Bears    11       5\n",
       "3  2011  Packers    15       1\n",
       "4  2012  Packers    11       5"
      ]
     },
     "execution_count": 51,
     "metadata": {},
     "output_type": "execute_result"
    }
   ],
   "source": [
    "football[(football.wins > 10) | (football.team == \"Packers\")]"
   ]
  },
  {
   "cell_type": "markdown",
   "metadata": {},
   "source": [
    "***\n",
    "\n",
    "## Formating"
   ]
  },
  {
   "cell_type": "code",
   "execution_count": 52,
   "metadata": {},
   "outputs": [
    {
     "data": {
      "text/html": [
       "<div>\n",
       "<style scoped>\n",
       "    .dataframe tbody tr th:only-of-type {\n",
       "        vertical-align: middle;\n",
       "    }\n",
       "\n",
       "    .dataframe tbody tr th {\n",
       "        vertical-align: top;\n",
       "    }\n",
       "\n",
       "    .dataframe thead th {\n",
       "        text-align: right;\n",
       "    }\n",
       "</style>\n",
       "<table border=\"1\" class=\"dataframe\">\n",
       "  <thead>\n",
       "    <tr style=\"text-align: right;\">\n",
       "      <th></th>\n",
       "      <th>A</th>\n",
       "      <th>B</th>\n",
       "      <th>C</th>\n",
       "    </tr>\n",
       "  </thead>\n",
       "  <tbody>\n",
       "    <tr>\n",
       "      <th>2000-01-01</th>\n",
       "      <td>0.457899</td>\n",
       "      <td>0.330025</td>\n",
       "      <td>1.103836</td>\n",
       "    </tr>\n",
       "    <tr>\n",
       "      <th>2000-01-02</th>\n",
       "      <td>-0.182450</td>\n",
       "      <td>0.922320</td>\n",
       "      <td>-0.876598</td>\n",
       "    </tr>\n",
       "    <tr>\n",
       "      <th>2000-01-03</th>\n",
       "      <td>-0.639069</td>\n",
       "      <td>-0.682079</td>\n",
       "      <td>0.504647</td>\n",
       "    </tr>\n",
       "    <tr>\n",
       "      <th>2000-01-04</th>\n",
       "      <td>-1.611921</td>\n",
       "      <td>-0.670617</td>\n",
       "      <td>0.383995</td>\n",
       "    </tr>\n",
       "    <tr>\n",
       "      <th>2000-01-05</th>\n",
       "      <td>1.631023</td>\n",
       "      <td>-0.996337</td>\n",
       "      <td>0.871324</td>\n",
       "    </tr>\n",
       "    <tr>\n",
       "      <th>2000-01-06</th>\n",
       "      <td>0.667407</td>\n",
       "      <td>2.410278</td>\n",
       "      <td>1.190915</td>\n",
       "    </tr>\n",
       "    <tr>\n",
       "      <th>2000-01-07</th>\n",
       "      <td>-0.718672</td>\n",
       "      <td>1.929484</td>\n",
       "      <td>-0.894280</td>\n",
       "    </tr>\n",
       "    <tr>\n",
       "      <th>2000-01-08</th>\n",
       "      <td>-0.339477</td>\n",
       "      <td>-0.016698</td>\n",
       "      <td>1.760061</td>\n",
       "    </tr>\n",
       "  </tbody>\n",
       "</table>\n",
       "</div>"
      ],
      "text/plain": [
       "                   A         B         C\n",
       "2000-01-01  0.457899  0.330025  1.103836\n",
       "2000-01-02 -0.182450  0.922320 -0.876598\n",
       "2000-01-03 -0.639069 -0.682079  0.504647\n",
       "2000-01-04 -1.611921 -0.670617  0.383995\n",
       "2000-01-05  1.631023 -0.996337  0.871324\n",
       "2000-01-06  0.667407  2.410278  1.190915\n",
       "2000-01-07 -0.718672  1.929484 -0.894280\n",
       "2000-01-08 -0.339477 -0.016698  1.760061"
      ]
     },
     "execution_count": 52,
     "metadata": {},
     "output_type": "execute_result"
    }
   ],
   "source": [
    "import numpy as np\n",
    "import pandas as pd\n",
    "\n",
    "index = pd.date_range('1/1/2000', periods=8)\n",
    "df = pd.DataFrame(np.random.randn(8, 3), index=index, columns=['A', 'B', 'C'])\n",
    "df"
   ]
  },
  {
   "cell_type": "code",
   "execution_count": 53,
   "metadata": {},
   "outputs": [
    {
     "data": {
      "text/plain": [
       "array([[ 0.45789852,  0.33002497,  1.10383596],\n",
       "       [-0.18245048,  0.92232013, -0.87659794],\n",
       "       [-0.63906945, -0.68207864,  0.50464686],\n",
       "       [-1.61192055, -0.67061725,  0.3839948 ],\n",
       "       [ 1.63102294, -0.9963374 ,  0.87132431],\n",
       "       [ 0.66740749,  2.41027762,  1.19091477],\n",
       "       [-0.71867245,  1.92948354, -0.89428028],\n",
       "       [-0.33947675, -0.01669775,  1.76006126]])"
      ]
     },
     "execution_count": 53,
     "metadata": {},
     "output_type": "execute_result"
    }
   ],
   "source": [
    "df.values"
   ]
  },
  {
   "cell_type": "code",
   "execution_count": 54,
   "metadata": {},
   "outputs": [
    {
     "data": {
      "text/plain": [
       "DatetimeIndex(['2000-01-01', '2000-01-02', '2000-01-03', '2000-01-04',\n",
       "               '2000-01-05', '2000-01-06', '2000-01-07', '2000-01-08'],\n",
       "              dtype='datetime64[ns]', freq='D')"
      ]
     },
     "execution_count": 54,
     "metadata": {},
     "output_type": "execute_result"
    }
   ],
   "source": [
    "df.index"
   ]
  },
  {
   "cell_type": "code",
   "execution_count": 55,
   "metadata": {},
   "outputs": [
    {
     "data": {
      "text/plain": [
       "Index(['A', 'B', 'C'], dtype='object')"
      ]
     },
     "execution_count": 55,
     "metadata": {},
     "output_type": "execute_result"
    }
   ],
   "source": [
    "df.columns"
   ]
  },
  {
   "cell_type": "code",
   "execution_count": 56,
   "metadata": {},
   "outputs": [],
   "source": [
    "newcols = []\n",
    "for i in range(len(df.columns)):\n",
    "    newcols.append(df.columns[i].lower())\n",
    "df.columns = newcols"
   ]
  },
  {
   "cell_type": "code",
   "execution_count": 57,
   "metadata": {},
   "outputs": [
    {
     "data": {
      "text/html": [
       "<div>\n",
       "<style scoped>\n",
       "    .dataframe tbody tr th:only-of-type {\n",
       "        vertical-align: middle;\n",
       "    }\n",
       "\n",
       "    .dataframe tbody tr th {\n",
       "        vertical-align: top;\n",
       "    }\n",
       "\n",
       "    .dataframe thead th {\n",
       "        text-align: right;\n",
       "    }\n",
       "</style>\n",
       "<table border=\"1\" class=\"dataframe\">\n",
       "  <thead>\n",
       "    <tr style=\"text-align: right;\">\n",
       "      <th></th>\n",
       "      <th>a</th>\n",
       "      <th>b</th>\n",
       "      <th>c</th>\n",
       "    </tr>\n",
       "  </thead>\n",
       "  <tbody>\n",
       "    <tr>\n",
       "      <th>2000-01-01</th>\n",
       "      <td>0.457899</td>\n",
       "      <td>0.330025</td>\n",
       "      <td>1.103836</td>\n",
       "    </tr>\n",
       "    <tr>\n",
       "      <th>2000-01-02</th>\n",
       "      <td>-0.182450</td>\n",
       "      <td>0.922320</td>\n",
       "      <td>-0.876598</td>\n",
       "    </tr>\n",
       "    <tr>\n",
       "      <th>2000-01-03</th>\n",
       "      <td>-0.639069</td>\n",
       "      <td>-0.682079</td>\n",
       "      <td>0.504647</td>\n",
       "    </tr>\n",
       "    <tr>\n",
       "      <th>2000-01-04</th>\n",
       "      <td>-1.611921</td>\n",
       "      <td>-0.670617</td>\n",
       "      <td>0.383995</td>\n",
       "    </tr>\n",
       "    <tr>\n",
       "      <th>2000-01-05</th>\n",
       "      <td>1.631023</td>\n",
       "      <td>-0.996337</td>\n",
       "      <td>0.871324</td>\n",
       "    </tr>\n",
       "    <tr>\n",
       "      <th>2000-01-06</th>\n",
       "      <td>0.667407</td>\n",
       "      <td>2.410278</td>\n",
       "      <td>1.190915</td>\n",
       "    </tr>\n",
       "    <tr>\n",
       "      <th>2000-01-07</th>\n",
       "      <td>-0.718672</td>\n",
       "      <td>1.929484</td>\n",
       "      <td>-0.894280</td>\n",
       "    </tr>\n",
       "    <tr>\n",
       "      <th>2000-01-08</th>\n",
       "      <td>-0.339477</td>\n",
       "      <td>-0.016698</td>\n",
       "      <td>1.760061</td>\n",
       "    </tr>\n",
       "  </tbody>\n",
       "</table>\n",
       "</div>"
      ],
      "text/plain": [
       "                   a         b         c\n",
       "2000-01-01  0.457899  0.330025  1.103836\n",
       "2000-01-02 -0.182450  0.922320 -0.876598\n",
       "2000-01-03 -0.639069 -0.682079  0.504647\n",
       "2000-01-04 -1.611921 -0.670617  0.383995\n",
       "2000-01-05  1.631023 -0.996337  0.871324\n",
       "2000-01-06  0.667407  2.410278  1.190915\n",
       "2000-01-07 -0.718672  1.929484 -0.894280\n",
       "2000-01-08 -0.339477 -0.016698  1.760061"
      ]
     },
     "execution_count": 57,
     "metadata": {},
     "output_type": "execute_result"
    }
   ],
   "source": [
    "df"
   ]
  },
  {
   "cell_type": "code",
   "execution_count": 58,
   "metadata": {},
   "outputs": [
    {
     "data": {
      "text/html": [
       "<style type=\"text/css\">\n",
       "</style>\n",
       "<table id=\"T_42162_\">\n",
       "  <thead>\n",
       "    <tr>\n",
       "      <th class=\"blank level0\" >&nbsp;</th>\n",
       "      <th class=\"col_heading level0 col0\" >a</th>\n",
       "      <th class=\"col_heading level0 col1\" >b</th>\n",
       "      <th class=\"col_heading level0 col2\" >c</th>\n",
       "    </tr>\n",
       "  </thead>\n",
       "  <tbody>\n",
       "    <tr>\n",
       "      <th id=\"T_42162_level0_row0\" class=\"row_heading level0 row0\" >2000-01-01 00:00:00</th>\n",
       "      <td id=\"T_42162_row0_col0\" class=\"data row0 col0\" >0.457899</td>\n",
       "      <td id=\"T_42162_row0_col1\" class=\"data row0 col1\" >0.330025</td>\n",
       "      <td id=\"T_42162_row0_col2\" class=\"data row0 col2\" >1.103836</td>\n",
       "    </tr>\n",
       "    <tr>\n",
       "      <th id=\"T_42162_level0_row1\" class=\"row_heading level0 row1\" >2000-01-02 00:00:00</th>\n",
       "      <td id=\"T_42162_row1_col0\" class=\"data row1 col0\" >-0.182450</td>\n",
       "      <td id=\"T_42162_row1_col1\" class=\"data row1 col1\" >0.922320</td>\n",
       "      <td id=\"T_42162_row1_col2\" class=\"data row1 col2\" >-0.876598</td>\n",
       "    </tr>\n",
       "    <tr>\n",
       "      <th id=\"T_42162_level0_row2\" class=\"row_heading level0 row2\" >2000-01-03 00:00:00</th>\n",
       "      <td id=\"T_42162_row2_col0\" class=\"data row2 col0\" >-0.639069</td>\n",
       "      <td id=\"T_42162_row2_col1\" class=\"data row2 col1\" >-0.682079</td>\n",
       "      <td id=\"T_42162_row2_col2\" class=\"data row2 col2\" >0.504647</td>\n",
       "    </tr>\n",
       "    <tr>\n",
       "      <th id=\"T_42162_level0_row3\" class=\"row_heading level0 row3\" >2000-01-04 00:00:00</th>\n",
       "      <td id=\"T_42162_row3_col0\" class=\"data row3 col0\" >-1.611921</td>\n",
       "      <td id=\"T_42162_row3_col1\" class=\"data row3 col1\" >-0.670617</td>\n",
       "      <td id=\"T_42162_row3_col2\" class=\"data row3 col2\" >0.383995</td>\n",
       "    </tr>\n",
       "    <tr>\n",
       "      <th id=\"T_42162_level0_row4\" class=\"row_heading level0 row4\" >2000-01-05 00:00:00</th>\n",
       "      <td id=\"T_42162_row4_col0\" class=\"data row4 col0\" >1.631023</td>\n",
       "      <td id=\"T_42162_row4_col1\" class=\"data row4 col1\" >-0.996337</td>\n",
       "      <td id=\"T_42162_row4_col2\" class=\"data row4 col2\" >0.871324</td>\n",
       "    </tr>\n",
       "    <tr>\n",
       "      <th id=\"T_42162_level0_row5\" class=\"row_heading level0 row5\" >2000-01-06 00:00:00</th>\n",
       "      <td id=\"T_42162_row5_col0\" class=\"data row5 col0\" >0.667407</td>\n",
       "      <td id=\"T_42162_row5_col1\" class=\"data row5 col1\" >2.410278</td>\n",
       "      <td id=\"T_42162_row5_col2\" class=\"data row5 col2\" >1.190915</td>\n",
       "    </tr>\n",
       "    <tr>\n",
       "      <th id=\"T_42162_level0_row6\" class=\"row_heading level0 row6\" >2000-01-07 00:00:00</th>\n",
       "      <td id=\"T_42162_row6_col0\" class=\"data row6 col0\" >-0.718672</td>\n",
       "      <td id=\"T_42162_row6_col1\" class=\"data row6 col1\" >1.929484</td>\n",
       "      <td id=\"T_42162_row6_col2\" class=\"data row6 col2\" >-0.894280</td>\n",
       "    </tr>\n",
       "    <tr>\n",
       "      <th id=\"T_42162_level0_row7\" class=\"row_heading level0 row7\" >2000-01-08 00:00:00</th>\n",
       "      <td id=\"T_42162_row7_col0\" class=\"data row7 col0\" >-0.339477</td>\n",
       "      <td id=\"T_42162_row7_col1\" class=\"data row7 col1\" >-0.016698</td>\n",
       "      <td id=\"T_42162_row7_col2\" class=\"data row7 col2\" >1.760061</td>\n",
       "    </tr>\n",
       "  </tbody>\n",
       "</table>\n"
      ],
      "text/plain": [
       "<pandas.io.formats.style.Styler at 0x2a39753fc40>"
      ]
     },
     "execution_count": 58,
     "metadata": {},
     "output_type": "execute_result"
    }
   ],
   "source": [
    "df.style"
   ]
  },
  {
   "cell_type": "code",
   "execution_count": 68,
   "metadata": {},
   "outputs": [],
   "source": [
    "def color_negative_red(val):\n",
    "    color = 'red' if val < 0 else 'yellow'\n",
    "    return 'color: %s' % color"
   ]
  },
  {
   "cell_type": "code",
   "execution_count": 69,
   "metadata": {},
   "outputs": [
    {
     "data": {
      "text/html": [
       "<style type=\"text/css\">\n",
       "#T_2c5dc_row0_col0, #T_2c5dc_row0_col1, #T_2c5dc_row0_col2, #T_2c5dc_row1_col1, #T_2c5dc_row2_col2, #T_2c5dc_row3_col2, #T_2c5dc_row4_col0, #T_2c5dc_row4_col2, #T_2c5dc_row5_col0, #T_2c5dc_row5_col1, #T_2c5dc_row5_col2, #T_2c5dc_row6_col1, #T_2c5dc_row7_col2 {\n",
       "  color: yellow;\n",
       "}\n",
       "#T_2c5dc_row1_col0, #T_2c5dc_row1_col2, #T_2c5dc_row2_col0, #T_2c5dc_row2_col1, #T_2c5dc_row3_col0, #T_2c5dc_row3_col1, #T_2c5dc_row4_col1, #T_2c5dc_row6_col0, #T_2c5dc_row6_col2, #T_2c5dc_row7_col0, #T_2c5dc_row7_col1 {\n",
       "  color: red;\n",
       "}\n",
       "</style>\n",
       "<table id=\"T_2c5dc_\">\n",
       "  <thead>\n",
       "    <tr>\n",
       "      <th class=\"blank level0\" >&nbsp;</th>\n",
       "      <th class=\"col_heading level0 col0\" >a</th>\n",
       "      <th class=\"col_heading level0 col1\" >b</th>\n",
       "      <th class=\"col_heading level0 col2\" >c</th>\n",
       "    </tr>\n",
       "  </thead>\n",
       "  <tbody>\n",
       "    <tr>\n",
       "      <th id=\"T_2c5dc_level0_row0\" class=\"row_heading level0 row0\" >2000-01-01 00:00:00</th>\n",
       "      <td id=\"T_2c5dc_row0_col0\" class=\"data row0 col0\" >0.457899</td>\n",
       "      <td id=\"T_2c5dc_row0_col1\" class=\"data row0 col1\" >0.330025</td>\n",
       "      <td id=\"T_2c5dc_row0_col2\" class=\"data row0 col2\" >1.103836</td>\n",
       "    </tr>\n",
       "    <tr>\n",
       "      <th id=\"T_2c5dc_level0_row1\" class=\"row_heading level0 row1\" >2000-01-02 00:00:00</th>\n",
       "      <td id=\"T_2c5dc_row1_col0\" class=\"data row1 col0\" >-0.182450</td>\n",
       "      <td id=\"T_2c5dc_row1_col1\" class=\"data row1 col1\" >0.922320</td>\n",
       "      <td id=\"T_2c5dc_row1_col2\" class=\"data row1 col2\" >-0.876598</td>\n",
       "    </tr>\n",
       "    <tr>\n",
       "      <th id=\"T_2c5dc_level0_row2\" class=\"row_heading level0 row2\" >2000-01-03 00:00:00</th>\n",
       "      <td id=\"T_2c5dc_row2_col0\" class=\"data row2 col0\" >-0.639069</td>\n",
       "      <td id=\"T_2c5dc_row2_col1\" class=\"data row2 col1\" >-0.682079</td>\n",
       "      <td id=\"T_2c5dc_row2_col2\" class=\"data row2 col2\" >0.504647</td>\n",
       "    </tr>\n",
       "    <tr>\n",
       "      <th id=\"T_2c5dc_level0_row3\" class=\"row_heading level0 row3\" >2000-01-04 00:00:00</th>\n",
       "      <td id=\"T_2c5dc_row3_col0\" class=\"data row3 col0\" >-1.611921</td>\n",
       "      <td id=\"T_2c5dc_row3_col1\" class=\"data row3 col1\" >-0.670617</td>\n",
       "      <td id=\"T_2c5dc_row3_col2\" class=\"data row3 col2\" >0.383995</td>\n",
       "    </tr>\n",
       "    <tr>\n",
       "      <th id=\"T_2c5dc_level0_row4\" class=\"row_heading level0 row4\" >2000-01-05 00:00:00</th>\n",
       "      <td id=\"T_2c5dc_row4_col0\" class=\"data row4 col0\" >1.631023</td>\n",
       "      <td id=\"T_2c5dc_row4_col1\" class=\"data row4 col1\" >-0.996337</td>\n",
       "      <td id=\"T_2c5dc_row4_col2\" class=\"data row4 col2\" >0.871324</td>\n",
       "    </tr>\n",
       "    <tr>\n",
       "      <th id=\"T_2c5dc_level0_row5\" class=\"row_heading level0 row5\" >2000-01-06 00:00:00</th>\n",
       "      <td id=\"T_2c5dc_row5_col0\" class=\"data row5 col0\" >0.667407</td>\n",
       "      <td id=\"T_2c5dc_row5_col1\" class=\"data row5 col1\" >2.410278</td>\n",
       "      <td id=\"T_2c5dc_row5_col2\" class=\"data row5 col2\" >1.190915</td>\n",
       "    </tr>\n",
       "    <tr>\n",
       "      <th id=\"T_2c5dc_level0_row6\" class=\"row_heading level0 row6\" >2000-01-07 00:00:00</th>\n",
       "      <td id=\"T_2c5dc_row6_col0\" class=\"data row6 col0\" >-0.718672</td>\n",
       "      <td id=\"T_2c5dc_row6_col1\" class=\"data row6 col1\" >1.929484</td>\n",
       "      <td id=\"T_2c5dc_row6_col2\" class=\"data row6 col2\" >-0.894280</td>\n",
       "    </tr>\n",
       "    <tr>\n",
       "      <th id=\"T_2c5dc_level0_row7\" class=\"row_heading level0 row7\" >2000-01-08 00:00:00</th>\n",
       "      <td id=\"T_2c5dc_row7_col0\" class=\"data row7 col0\" >-0.339477</td>\n",
       "      <td id=\"T_2c5dc_row7_col1\" class=\"data row7 col1\" >-0.016698</td>\n",
       "      <td id=\"T_2c5dc_row7_col2\" class=\"data row7 col2\" >1.760061</td>\n",
       "    </tr>\n",
       "  </tbody>\n",
       "</table>\n"
      ],
      "text/plain": [
       "<pandas.io.formats.style.Styler at 0x2a39b798a90>"
      ]
     },
     "execution_count": 69,
     "metadata": {},
     "output_type": "execute_result"
    }
   ],
   "source": [
    "df.style.applymap(color_negative_red)"
   ]
  },
  {
   "cell_type": "code",
   "execution_count": 71,
   "metadata": {},
   "outputs": [
    {
     "data": {
      "text/html": [
       "<style type=\"text/css\">\n",
       "#T_6c84a_row0_col0, #T_6c84a_row0_col1, #T_6c84a_row0_col2, #T_6c84a_row1_col1, #T_6c84a_row2_col2, #T_6c84a_row3_col2, #T_6c84a_row4_col0, #T_6c84a_row4_col2, #T_6c84a_row5_col0, #T_6c84a_row5_col1, #T_6c84a_row5_col2, #T_6c84a_row6_col1, #T_6c84a_row7_col2 {\n",
       "  color: yellow;\n",
       "}\n",
       "#T_6c84a_row1_col0, #T_6c84a_row1_col2, #T_6c84a_row2_col0, #T_6c84a_row2_col1, #T_6c84a_row3_col0, #T_6c84a_row3_col1, #T_6c84a_row4_col1, #T_6c84a_row6_col0, #T_6c84a_row6_col2, #T_6c84a_row7_col0, #T_6c84a_row7_col1 {\n",
       "  color: red;\n",
       "}\n",
       "</style>\n",
       "<table id=\"T_6c84a_\">\n",
       "  <thead>\n",
       "    <tr>\n",
       "      <th class=\"blank level0\" >&nbsp;</th>\n",
       "      <th class=\"col_heading level0 col0\" >a</th>\n",
       "      <th class=\"col_heading level0 col1\" >b</th>\n",
       "      <th class=\"col_heading level0 col2\" >c</th>\n",
       "    </tr>\n",
       "  </thead>\n",
       "  <tbody>\n",
       "    <tr>\n",
       "      <th id=\"T_6c84a_level0_row0\" class=\"row_heading level0 row0\" >2000-01-01</th>\n",
       "      <td id=\"T_6c84a_row0_col0\" class=\"data row0 col0\" >0.457899</td>\n",
       "      <td id=\"T_6c84a_row0_col1\" class=\"data row0 col1\" >0.330025</td>\n",
       "      <td id=\"T_6c84a_row0_col2\" class=\"data row0 col2\" >1.103836</td>\n",
       "    </tr>\n",
       "    <tr>\n",
       "      <th id=\"T_6c84a_level0_row1\" class=\"row_heading level0 row1\" >2000-01-02</th>\n",
       "      <td id=\"T_6c84a_row1_col0\" class=\"data row1 col0\" >-0.182450</td>\n",
       "      <td id=\"T_6c84a_row1_col1\" class=\"data row1 col1\" >0.922320</td>\n",
       "      <td id=\"T_6c84a_row1_col2\" class=\"data row1 col2\" >-0.876598</td>\n",
       "    </tr>\n",
       "    <tr>\n",
       "      <th id=\"T_6c84a_level0_row2\" class=\"row_heading level0 row2\" >2000-01-03</th>\n",
       "      <td id=\"T_6c84a_row2_col0\" class=\"data row2 col0\" >-0.639069</td>\n",
       "      <td id=\"T_6c84a_row2_col1\" class=\"data row2 col1\" >-0.682079</td>\n",
       "      <td id=\"T_6c84a_row2_col2\" class=\"data row2 col2\" >0.504647</td>\n",
       "    </tr>\n",
       "    <tr>\n",
       "      <th id=\"T_6c84a_level0_row3\" class=\"row_heading level0 row3\" >2000-01-04</th>\n",
       "      <td id=\"T_6c84a_row3_col0\" class=\"data row3 col0\" >-1.611921</td>\n",
       "      <td id=\"T_6c84a_row3_col1\" class=\"data row3 col1\" >-0.670617</td>\n",
       "      <td id=\"T_6c84a_row3_col2\" class=\"data row3 col2\" >0.383995</td>\n",
       "    </tr>\n",
       "    <tr>\n",
       "      <th id=\"T_6c84a_level0_row4\" class=\"row_heading level0 row4\" >2000-01-05</th>\n",
       "      <td id=\"T_6c84a_row4_col0\" class=\"data row4 col0\" >1.631023</td>\n",
       "      <td id=\"T_6c84a_row4_col1\" class=\"data row4 col1\" >-0.996337</td>\n",
       "      <td id=\"T_6c84a_row4_col2\" class=\"data row4 col2\" >0.871324</td>\n",
       "    </tr>\n",
       "    <tr>\n",
       "      <th id=\"T_6c84a_level0_row5\" class=\"row_heading level0 row5\" >2000-01-06</th>\n",
       "      <td id=\"T_6c84a_row5_col0\" class=\"data row5 col0\" >0.667407</td>\n",
       "      <td id=\"T_6c84a_row5_col1\" class=\"data row5 col1\" >2.410278</td>\n",
       "      <td id=\"T_6c84a_row5_col2\" class=\"data row5 col2\" >1.190915</td>\n",
       "    </tr>\n",
       "    <tr>\n",
       "      <th id=\"T_6c84a_level0_row6\" class=\"row_heading level0 row6\" >2000-01-07</th>\n",
       "      <td id=\"T_6c84a_row6_col0\" class=\"data row6 col0\" >-0.718672</td>\n",
       "      <td id=\"T_6c84a_row6_col1\" class=\"data row6 col1\" >1.929484</td>\n",
       "      <td id=\"T_6c84a_row6_col2\" class=\"data row6 col2\" >-0.894280</td>\n",
       "    </tr>\n",
       "    <tr>\n",
       "      <th id=\"T_6c84a_level0_row7\" class=\"row_heading level0 row7\" >2000-01-08</th>\n",
       "      <td id=\"T_6c84a_row7_col0\" class=\"data row7 col0\" >-0.339477</td>\n",
       "      <td id=\"T_6c84a_row7_col1\" class=\"data row7 col1\" >-0.016698</td>\n",
       "      <td id=\"T_6c84a_row7_col2\" class=\"data row7 col2\" >1.760061</td>\n",
       "    </tr>\n",
       "  </tbody>\n",
       "</table>\n"
      ],
      "text/plain": [
       "<pandas.io.formats.style.Styler at 0x2a39b798640>"
      ]
     },
     "execution_count": 71,
     "metadata": {},
     "output_type": "execute_result"
    }
   ],
   "source": [
    "df.index = pd.to_datetime(df.index, format = '%Y-%m-%d').strftime('%Y-%m-%d')\n",
    "df.style.applymap(color_negative_red)"
   ]
  },
  {
   "cell_type": "code",
   "execution_count": 72,
   "metadata": {},
   "outputs": [],
   "source": [
    "def highlight_max(s):\n",
    "    is_max = s == s.max()\n",
    "    return ['background-color: blue' if v else '' for v in is_max]"
   ]
  },
  {
   "cell_type": "code",
   "execution_count": 73,
   "metadata": {},
   "outputs": [
    {
     "data": {
      "text/html": [
       "<style type=\"text/css\">\n",
       "#T_b5863_row4_col0, #T_b5863_row5_col1, #T_b5863_row7_col2 {\n",
       "  background-color: blue;\n",
       "}\n",
       "</style>\n",
       "<table id=\"T_b5863_\">\n",
       "  <thead>\n",
       "    <tr>\n",
       "      <th class=\"blank level0\" >&nbsp;</th>\n",
       "      <th class=\"col_heading level0 col0\" >a</th>\n",
       "      <th class=\"col_heading level0 col1\" >b</th>\n",
       "      <th class=\"col_heading level0 col2\" >c</th>\n",
       "    </tr>\n",
       "  </thead>\n",
       "  <tbody>\n",
       "    <tr>\n",
       "      <th id=\"T_b5863_level0_row0\" class=\"row_heading level0 row0\" >2000-01-01</th>\n",
       "      <td id=\"T_b5863_row0_col0\" class=\"data row0 col0\" >0.457899</td>\n",
       "      <td id=\"T_b5863_row0_col1\" class=\"data row0 col1\" >0.330025</td>\n",
       "      <td id=\"T_b5863_row0_col2\" class=\"data row0 col2\" >1.103836</td>\n",
       "    </tr>\n",
       "    <tr>\n",
       "      <th id=\"T_b5863_level0_row1\" class=\"row_heading level0 row1\" >2000-01-02</th>\n",
       "      <td id=\"T_b5863_row1_col0\" class=\"data row1 col0\" >-0.182450</td>\n",
       "      <td id=\"T_b5863_row1_col1\" class=\"data row1 col1\" >0.922320</td>\n",
       "      <td id=\"T_b5863_row1_col2\" class=\"data row1 col2\" >-0.876598</td>\n",
       "    </tr>\n",
       "    <tr>\n",
       "      <th id=\"T_b5863_level0_row2\" class=\"row_heading level0 row2\" >2000-01-03</th>\n",
       "      <td id=\"T_b5863_row2_col0\" class=\"data row2 col0\" >-0.639069</td>\n",
       "      <td id=\"T_b5863_row2_col1\" class=\"data row2 col1\" >-0.682079</td>\n",
       "      <td id=\"T_b5863_row2_col2\" class=\"data row2 col2\" >0.504647</td>\n",
       "    </tr>\n",
       "    <tr>\n",
       "      <th id=\"T_b5863_level0_row3\" class=\"row_heading level0 row3\" >2000-01-04</th>\n",
       "      <td id=\"T_b5863_row3_col0\" class=\"data row3 col0\" >-1.611921</td>\n",
       "      <td id=\"T_b5863_row3_col1\" class=\"data row3 col1\" >-0.670617</td>\n",
       "      <td id=\"T_b5863_row3_col2\" class=\"data row3 col2\" >0.383995</td>\n",
       "    </tr>\n",
       "    <tr>\n",
       "      <th id=\"T_b5863_level0_row4\" class=\"row_heading level0 row4\" >2000-01-05</th>\n",
       "      <td id=\"T_b5863_row4_col0\" class=\"data row4 col0\" >1.631023</td>\n",
       "      <td id=\"T_b5863_row4_col1\" class=\"data row4 col1\" >-0.996337</td>\n",
       "      <td id=\"T_b5863_row4_col2\" class=\"data row4 col2\" >0.871324</td>\n",
       "    </tr>\n",
       "    <tr>\n",
       "      <th id=\"T_b5863_level0_row5\" class=\"row_heading level0 row5\" >2000-01-06</th>\n",
       "      <td id=\"T_b5863_row5_col0\" class=\"data row5 col0\" >0.667407</td>\n",
       "      <td id=\"T_b5863_row5_col1\" class=\"data row5 col1\" >2.410278</td>\n",
       "      <td id=\"T_b5863_row5_col2\" class=\"data row5 col2\" >1.190915</td>\n",
       "    </tr>\n",
       "    <tr>\n",
       "      <th id=\"T_b5863_level0_row6\" class=\"row_heading level0 row6\" >2000-01-07</th>\n",
       "      <td id=\"T_b5863_row6_col0\" class=\"data row6 col0\" >-0.718672</td>\n",
       "      <td id=\"T_b5863_row6_col1\" class=\"data row6 col1\" >1.929484</td>\n",
       "      <td id=\"T_b5863_row6_col2\" class=\"data row6 col2\" >-0.894280</td>\n",
       "    </tr>\n",
       "    <tr>\n",
       "      <th id=\"T_b5863_level0_row7\" class=\"row_heading level0 row7\" >2000-01-08</th>\n",
       "      <td id=\"T_b5863_row7_col0\" class=\"data row7 col0\" >-0.339477</td>\n",
       "      <td id=\"T_b5863_row7_col1\" class=\"data row7 col1\" >-0.016698</td>\n",
       "      <td id=\"T_b5863_row7_col2\" class=\"data row7 col2\" >1.760061</td>\n",
       "    </tr>\n",
       "  </tbody>\n",
       "</table>\n"
      ],
      "text/plain": [
       "<pandas.io.formats.style.Styler at 0x2a39b7ba310>"
      ]
     },
     "execution_count": 73,
     "metadata": {},
     "output_type": "execute_result"
    }
   ],
   "source": [
    "df.style.apply(highlight_max)"
   ]
  },
  {
   "cell_type": "code",
   "execution_count": 74,
   "metadata": {},
   "outputs": [
    {
     "data": {
      "text/html": [
       "<style type=\"text/css\">\n",
       "#T_183df_row0_col2, #T_183df_row1_col1, #T_183df_row2_col2, #T_183df_row3_col2, #T_183df_row4_col0, #T_183df_row5_col1, #T_183df_row6_col1, #T_183df_row7_col2 {\n",
       "  background-color: blue;\n",
       "}\n",
       "</style>\n",
       "<table id=\"T_183df_\">\n",
       "  <thead>\n",
       "    <tr>\n",
       "      <th class=\"blank level0\" >&nbsp;</th>\n",
       "      <th class=\"col_heading level0 col0\" >a</th>\n",
       "      <th class=\"col_heading level0 col1\" >b</th>\n",
       "      <th class=\"col_heading level0 col2\" >c</th>\n",
       "    </tr>\n",
       "  </thead>\n",
       "  <tbody>\n",
       "    <tr>\n",
       "      <th id=\"T_183df_level0_row0\" class=\"row_heading level0 row0\" >2000-01-01</th>\n",
       "      <td id=\"T_183df_row0_col0\" class=\"data row0 col0\" >0.457899</td>\n",
       "      <td id=\"T_183df_row0_col1\" class=\"data row0 col1\" >0.330025</td>\n",
       "      <td id=\"T_183df_row0_col2\" class=\"data row0 col2\" >1.103836</td>\n",
       "    </tr>\n",
       "    <tr>\n",
       "      <th id=\"T_183df_level0_row1\" class=\"row_heading level0 row1\" >2000-01-02</th>\n",
       "      <td id=\"T_183df_row1_col0\" class=\"data row1 col0\" >-0.182450</td>\n",
       "      <td id=\"T_183df_row1_col1\" class=\"data row1 col1\" >0.922320</td>\n",
       "      <td id=\"T_183df_row1_col2\" class=\"data row1 col2\" >-0.876598</td>\n",
       "    </tr>\n",
       "    <tr>\n",
       "      <th id=\"T_183df_level0_row2\" class=\"row_heading level0 row2\" >2000-01-03</th>\n",
       "      <td id=\"T_183df_row2_col0\" class=\"data row2 col0\" >-0.639069</td>\n",
       "      <td id=\"T_183df_row2_col1\" class=\"data row2 col1\" >-0.682079</td>\n",
       "      <td id=\"T_183df_row2_col2\" class=\"data row2 col2\" >0.504647</td>\n",
       "    </tr>\n",
       "    <tr>\n",
       "      <th id=\"T_183df_level0_row3\" class=\"row_heading level0 row3\" >2000-01-04</th>\n",
       "      <td id=\"T_183df_row3_col0\" class=\"data row3 col0\" >-1.611921</td>\n",
       "      <td id=\"T_183df_row3_col1\" class=\"data row3 col1\" >-0.670617</td>\n",
       "      <td id=\"T_183df_row3_col2\" class=\"data row3 col2\" >0.383995</td>\n",
       "    </tr>\n",
       "    <tr>\n",
       "      <th id=\"T_183df_level0_row4\" class=\"row_heading level0 row4\" >2000-01-05</th>\n",
       "      <td id=\"T_183df_row4_col0\" class=\"data row4 col0\" >1.631023</td>\n",
       "      <td id=\"T_183df_row4_col1\" class=\"data row4 col1\" >-0.996337</td>\n",
       "      <td id=\"T_183df_row4_col2\" class=\"data row4 col2\" >0.871324</td>\n",
       "    </tr>\n",
       "    <tr>\n",
       "      <th id=\"T_183df_level0_row5\" class=\"row_heading level0 row5\" >2000-01-06</th>\n",
       "      <td id=\"T_183df_row5_col0\" class=\"data row5 col0\" >0.667407</td>\n",
       "      <td id=\"T_183df_row5_col1\" class=\"data row5 col1\" >2.410278</td>\n",
       "      <td id=\"T_183df_row5_col2\" class=\"data row5 col2\" >1.190915</td>\n",
       "    </tr>\n",
       "    <tr>\n",
       "      <th id=\"T_183df_level0_row6\" class=\"row_heading level0 row6\" >2000-01-07</th>\n",
       "      <td id=\"T_183df_row6_col0\" class=\"data row6 col0\" >-0.718672</td>\n",
       "      <td id=\"T_183df_row6_col1\" class=\"data row6 col1\" >1.929484</td>\n",
       "      <td id=\"T_183df_row6_col2\" class=\"data row6 col2\" >-0.894280</td>\n",
       "    </tr>\n",
       "    <tr>\n",
       "      <th id=\"T_183df_level0_row7\" class=\"row_heading level0 row7\" >2000-01-08</th>\n",
       "      <td id=\"T_183df_row7_col0\" class=\"data row7 col0\" >-0.339477</td>\n",
       "      <td id=\"T_183df_row7_col1\" class=\"data row7 col1\" >-0.016698</td>\n",
       "      <td id=\"T_183df_row7_col2\" class=\"data row7 col2\" >1.760061</td>\n",
       "    </tr>\n",
       "  </tbody>\n",
       "</table>\n"
      ],
      "text/plain": [
       "<pandas.io.formats.style.Styler at 0x2a39b7ba6d0>"
      ]
     },
     "execution_count": 74,
     "metadata": {},
     "output_type": "execute_result"
    }
   ],
   "source": [
    "df.style.apply(highlight_max, axis=1)"
   ]
  },
  {
   "cell_type": "code",
   "execution_count": 76,
   "metadata": {},
   "outputs": [
    {
     "data": {
      "text/html": [
       "<style type=\"text/css\">\n",
       "#T_dda58_row4_col0, #T_dda58_row5_col1, #T_dda58_row7_col2 {\n",
       "  background-color: blue;\n",
       "}\n",
       "</style>\n",
       "<table id=\"T_dda58_\">\n",
       "  <thead>\n",
       "    <tr>\n",
       "      <th class=\"blank level0\" >&nbsp;</th>\n",
       "      <th class=\"col_heading level0 col0\" >a</th>\n",
       "      <th class=\"col_heading level0 col1\" >b</th>\n",
       "      <th class=\"col_heading level0 col2\" >c</th>\n",
       "    </tr>\n",
       "  </thead>\n",
       "  <tbody>\n",
       "    <tr>\n",
       "      <th id=\"T_dda58_level0_row0\" class=\"row_heading level0 row0\" >2000-01-01</th>\n",
       "      <td id=\"T_dda58_row0_col0\" class=\"data row0 col0\" >0.457899</td>\n",
       "      <td id=\"T_dda58_row0_col1\" class=\"data row0 col1\" >0.330025</td>\n",
       "      <td id=\"T_dda58_row0_col2\" class=\"data row0 col2\" >1.103836</td>\n",
       "    </tr>\n",
       "    <tr>\n",
       "      <th id=\"T_dda58_level0_row1\" class=\"row_heading level0 row1\" >2000-01-02</th>\n",
       "      <td id=\"T_dda58_row1_col0\" class=\"data row1 col0\" >-0.182450</td>\n",
       "      <td id=\"T_dda58_row1_col1\" class=\"data row1 col1\" >0.922320</td>\n",
       "      <td id=\"T_dda58_row1_col2\" class=\"data row1 col2\" >-0.876598</td>\n",
       "    </tr>\n",
       "    <tr>\n",
       "      <th id=\"T_dda58_level0_row2\" class=\"row_heading level0 row2\" >2000-01-03</th>\n",
       "      <td id=\"T_dda58_row2_col0\" class=\"data row2 col0\" >-0.639069</td>\n",
       "      <td id=\"T_dda58_row2_col1\" class=\"data row2 col1\" >-0.682079</td>\n",
       "      <td id=\"T_dda58_row2_col2\" class=\"data row2 col2\" >0.504647</td>\n",
       "    </tr>\n",
       "    <tr>\n",
       "      <th id=\"T_dda58_level0_row3\" class=\"row_heading level0 row3\" >2000-01-04</th>\n",
       "      <td id=\"T_dda58_row3_col0\" class=\"data row3 col0\" >-1.611921</td>\n",
       "      <td id=\"T_dda58_row3_col1\" class=\"data row3 col1\" >-0.670617</td>\n",
       "      <td id=\"T_dda58_row3_col2\" class=\"data row3 col2\" >0.383995</td>\n",
       "    </tr>\n",
       "    <tr>\n",
       "      <th id=\"T_dda58_level0_row4\" class=\"row_heading level0 row4\" >2000-01-05</th>\n",
       "      <td id=\"T_dda58_row4_col0\" class=\"data row4 col0\" >1.631023</td>\n",
       "      <td id=\"T_dda58_row4_col1\" class=\"data row4 col1\" >-0.996337</td>\n",
       "      <td id=\"T_dda58_row4_col2\" class=\"data row4 col2\" >0.871324</td>\n",
       "    </tr>\n",
       "    <tr>\n",
       "      <th id=\"T_dda58_level0_row5\" class=\"row_heading level0 row5\" >2000-01-06</th>\n",
       "      <td id=\"T_dda58_row5_col0\" class=\"data row5 col0\" >0.667407</td>\n",
       "      <td id=\"T_dda58_row5_col1\" class=\"data row5 col1\" >2.410278</td>\n",
       "      <td id=\"T_dda58_row5_col2\" class=\"data row5 col2\" >1.190915</td>\n",
       "    </tr>\n",
       "    <tr>\n",
       "      <th id=\"T_dda58_level0_row6\" class=\"row_heading level0 row6\" >2000-01-07</th>\n",
       "      <td id=\"T_dda58_row6_col0\" class=\"data row6 col0\" >-0.718672</td>\n",
       "      <td id=\"T_dda58_row6_col1\" class=\"data row6 col1\" >1.929484</td>\n",
       "      <td id=\"T_dda58_row6_col2\" class=\"data row6 col2\" >-0.894280</td>\n",
       "    </tr>\n",
       "    <tr>\n",
       "      <th id=\"T_dda58_level0_row7\" class=\"row_heading level0 row7\" >2000-01-08</th>\n",
       "      <td id=\"T_dda58_row7_col0\" class=\"data row7 col0\" >-0.339477</td>\n",
       "      <td id=\"T_dda58_row7_col1\" class=\"data row7 col1\" >-0.016698</td>\n",
       "      <td id=\"T_dda58_row7_col2\" class=\"data row7 col2\" >1.760061</td>\n",
       "    </tr>\n",
       "  </tbody>\n",
       "</table>\n"
      ],
      "text/plain": [
       "<pandas.io.formats.style.Styler at 0x2a39b77cc10>"
      ]
     },
     "execution_count": 76,
     "metadata": {},
     "output_type": "execute_result"
    }
   ],
   "source": [
    "df.style.apply(highlight_max, axis=0)"
   ]
  },
  {
   "cell_type": "code",
   "execution_count": 77,
   "metadata": {},
   "outputs": [
    {
     "data": {
      "text/html": [
       "<style type=\"text/css\">\n",
       "#T_c76ec_row0_col0, #T_c76ec_row0_col1, #T_c76ec_row0_col2, #T_c76ec_row1_col1, #T_c76ec_row2_col2, #T_c76ec_row3_col2, #T_c76ec_row4_col2, #T_c76ec_row5_col0, #T_c76ec_row5_col2, #T_c76ec_row6_col1 {\n",
       "  color: yellow;\n",
       "}\n",
       "#T_c76ec_row1_col0, #T_c76ec_row1_col2, #T_c76ec_row2_col0, #T_c76ec_row2_col1, #T_c76ec_row3_col0, #T_c76ec_row3_col1, #T_c76ec_row4_col1, #T_c76ec_row6_col0, #T_c76ec_row6_col2, #T_c76ec_row7_col0, #T_c76ec_row7_col1 {\n",
       "  color: red;\n",
       "}\n",
       "#T_c76ec_row4_col0, #T_c76ec_row5_col1, #T_c76ec_row7_col2 {\n",
       "  background-color: blue;\n",
       "  color: yellow;\n",
       "}\n",
       "</style>\n",
       "<table id=\"T_c76ec_\">\n",
       "  <thead>\n",
       "    <tr>\n",
       "      <th class=\"blank level0\" >&nbsp;</th>\n",
       "      <th class=\"col_heading level0 col0\" >a</th>\n",
       "      <th class=\"col_heading level0 col1\" >b</th>\n",
       "      <th class=\"col_heading level0 col2\" >c</th>\n",
       "    </tr>\n",
       "  </thead>\n",
       "  <tbody>\n",
       "    <tr>\n",
       "      <th id=\"T_c76ec_level0_row0\" class=\"row_heading level0 row0\" >2000-01-01</th>\n",
       "      <td id=\"T_c76ec_row0_col0\" class=\"data row0 col0\" >0.457899</td>\n",
       "      <td id=\"T_c76ec_row0_col1\" class=\"data row0 col1\" >0.330025</td>\n",
       "      <td id=\"T_c76ec_row0_col2\" class=\"data row0 col2\" >1.103836</td>\n",
       "    </tr>\n",
       "    <tr>\n",
       "      <th id=\"T_c76ec_level0_row1\" class=\"row_heading level0 row1\" >2000-01-02</th>\n",
       "      <td id=\"T_c76ec_row1_col0\" class=\"data row1 col0\" >-0.182450</td>\n",
       "      <td id=\"T_c76ec_row1_col1\" class=\"data row1 col1\" >0.922320</td>\n",
       "      <td id=\"T_c76ec_row1_col2\" class=\"data row1 col2\" >-0.876598</td>\n",
       "    </tr>\n",
       "    <tr>\n",
       "      <th id=\"T_c76ec_level0_row2\" class=\"row_heading level0 row2\" >2000-01-03</th>\n",
       "      <td id=\"T_c76ec_row2_col0\" class=\"data row2 col0\" >-0.639069</td>\n",
       "      <td id=\"T_c76ec_row2_col1\" class=\"data row2 col1\" >-0.682079</td>\n",
       "      <td id=\"T_c76ec_row2_col2\" class=\"data row2 col2\" >0.504647</td>\n",
       "    </tr>\n",
       "    <tr>\n",
       "      <th id=\"T_c76ec_level0_row3\" class=\"row_heading level0 row3\" >2000-01-04</th>\n",
       "      <td id=\"T_c76ec_row3_col0\" class=\"data row3 col0\" >-1.611921</td>\n",
       "      <td id=\"T_c76ec_row3_col1\" class=\"data row3 col1\" >-0.670617</td>\n",
       "      <td id=\"T_c76ec_row3_col2\" class=\"data row3 col2\" >0.383995</td>\n",
       "    </tr>\n",
       "    <tr>\n",
       "      <th id=\"T_c76ec_level0_row4\" class=\"row_heading level0 row4\" >2000-01-05</th>\n",
       "      <td id=\"T_c76ec_row4_col0\" class=\"data row4 col0\" >1.631023</td>\n",
       "      <td id=\"T_c76ec_row4_col1\" class=\"data row4 col1\" >-0.996337</td>\n",
       "      <td id=\"T_c76ec_row4_col2\" class=\"data row4 col2\" >0.871324</td>\n",
       "    </tr>\n",
       "    <tr>\n",
       "      <th id=\"T_c76ec_level0_row5\" class=\"row_heading level0 row5\" >2000-01-06</th>\n",
       "      <td id=\"T_c76ec_row5_col0\" class=\"data row5 col0\" >0.667407</td>\n",
       "      <td id=\"T_c76ec_row5_col1\" class=\"data row5 col1\" >2.410278</td>\n",
       "      <td id=\"T_c76ec_row5_col2\" class=\"data row5 col2\" >1.190915</td>\n",
       "    </tr>\n",
       "    <tr>\n",
       "      <th id=\"T_c76ec_level0_row6\" class=\"row_heading level0 row6\" >2000-01-07</th>\n",
       "      <td id=\"T_c76ec_row6_col0\" class=\"data row6 col0\" >-0.718672</td>\n",
       "      <td id=\"T_c76ec_row6_col1\" class=\"data row6 col1\" >1.929484</td>\n",
       "      <td id=\"T_c76ec_row6_col2\" class=\"data row6 col2\" >-0.894280</td>\n",
       "    </tr>\n",
       "    <tr>\n",
       "      <th id=\"T_c76ec_level0_row7\" class=\"row_heading level0 row7\" >2000-01-08</th>\n",
       "      <td id=\"T_c76ec_row7_col0\" class=\"data row7 col0\" >-0.339477</td>\n",
       "      <td id=\"T_c76ec_row7_col1\" class=\"data row7 col1\" >-0.016698</td>\n",
       "      <td id=\"T_c76ec_row7_col2\" class=\"data row7 col2\" >1.760061</td>\n",
       "    </tr>\n",
       "  </tbody>\n",
       "</table>\n"
      ],
      "text/plain": [
       "<pandas.io.formats.style.Styler at 0x2a39b77ceb0>"
      ]
     },
     "execution_count": 77,
     "metadata": {},
     "output_type": "execute_result"
    }
   ],
   "source": [
    "df.style.apply(highlight_max, axis=0).applymap(color_negative_red)"
   ]
  },
  {
   "cell_type": "markdown",
   "metadata": {},
   "source": [
    "## New columns"
   ]
  },
  {
   "cell_type": "code",
   "execution_count": 78,
   "metadata": {},
   "outputs": [],
   "source": [
    "df.sum = df.a + df.b + df.c"
   ]
  },
  {
   "cell_type": "code",
   "execution_count": 79,
   "metadata": {},
   "outputs": [
    {
     "data": {
      "text/html": [
       "<div>\n",
       "<style scoped>\n",
       "    .dataframe tbody tr th:only-of-type {\n",
       "        vertical-align: middle;\n",
       "    }\n",
       "\n",
       "    .dataframe tbody tr th {\n",
       "        vertical-align: top;\n",
       "    }\n",
       "\n",
       "    .dataframe thead th {\n",
       "        text-align: right;\n",
       "    }\n",
       "</style>\n",
       "<table border=\"1\" class=\"dataframe\">\n",
       "  <thead>\n",
       "    <tr style=\"text-align: right;\">\n",
       "      <th></th>\n",
       "      <th>a</th>\n",
       "      <th>b</th>\n",
       "      <th>c</th>\n",
       "    </tr>\n",
       "  </thead>\n",
       "  <tbody>\n",
       "    <tr>\n",
       "      <th>2000-01-01</th>\n",
       "      <td>0.457899</td>\n",
       "      <td>0.330025</td>\n",
       "      <td>1.103836</td>\n",
       "    </tr>\n",
       "    <tr>\n",
       "      <th>2000-01-02</th>\n",
       "      <td>-0.182450</td>\n",
       "      <td>0.922320</td>\n",
       "      <td>-0.876598</td>\n",
       "    </tr>\n",
       "    <tr>\n",
       "      <th>2000-01-03</th>\n",
       "      <td>-0.639069</td>\n",
       "      <td>-0.682079</td>\n",
       "      <td>0.504647</td>\n",
       "    </tr>\n",
       "    <tr>\n",
       "      <th>2000-01-04</th>\n",
       "      <td>-1.611921</td>\n",
       "      <td>-0.670617</td>\n",
       "      <td>0.383995</td>\n",
       "    </tr>\n",
       "    <tr>\n",
       "      <th>2000-01-05</th>\n",
       "      <td>1.631023</td>\n",
       "      <td>-0.996337</td>\n",
       "      <td>0.871324</td>\n",
       "    </tr>\n",
       "    <tr>\n",
       "      <th>2000-01-06</th>\n",
       "      <td>0.667407</td>\n",
       "      <td>2.410278</td>\n",
       "      <td>1.190915</td>\n",
       "    </tr>\n",
       "    <tr>\n",
       "      <th>2000-01-07</th>\n",
       "      <td>-0.718672</td>\n",
       "      <td>1.929484</td>\n",
       "      <td>-0.894280</td>\n",
       "    </tr>\n",
       "    <tr>\n",
       "      <th>2000-01-08</th>\n",
       "      <td>-0.339477</td>\n",
       "      <td>-0.016698</td>\n",
       "      <td>1.760061</td>\n",
       "    </tr>\n",
       "  </tbody>\n",
       "</table>\n",
       "</div>"
      ],
      "text/plain": [
       "                   a         b         c\n",
       "2000-01-01  0.457899  0.330025  1.103836\n",
       "2000-01-02 -0.182450  0.922320 -0.876598\n",
       "2000-01-03 -0.639069 -0.682079  0.504647\n",
       "2000-01-04 -1.611921 -0.670617  0.383995\n",
       "2000-01-05  1.631023 -0.996337  0.871324\n",
       "2000-01-06  0.667407  2.410278  1.190915\n",
       "2000-01-07 -0.718672  1.929484 -0.894280\n",
       "2000-01-08 -0.339477 -0.016698  1.760061"
      ]
     },
     "execution_count": 79,
     "metadata": {},
     "output_type": "execute_result"
    }
   ],
   "source": [
    "df"
   ]
  },
  {
   "cell_type": "code",
   "execution_count": 80,
   "metadata": {},
   "outputs": [],
   "source": [
    "df['sum'] = df.a + df.b + df.c"
   ]
  },
  {
   "cell_type": "code",
   "execution_count": 81,
   "metadata": {},
   "outputs": [
    {
     "data": {
      "text/html": [
       "<div>\n",
       "<style scoped>\n",
       "    .dataframe tbody tr th:only-of-type {\n",
       "        vertical-align: middle;\n",
       "    }\n",
       "\n",
       "    .dataframe tbody tr th {\n",
       "        vertical-align: top;\n",
       "    }\n",
       "\n",
       "    .dataframe thead th {\n",
       "        text-align: right;\n",
       "    }\n",
       "</style>\n",
       "<table border=\"1\" class=\"dataframe\">\n",
       "  <thead>\n",
       "    <tr style=\"text-align: right;\">\n",
       "      <th></th>\n",
       "      <th>a</th>\n",
       "      <th>b</th>\n",
       "      <th>c</th>\n",
       "      <th>sum</th>\n",
       "    </tr>\n",
       "  </thead>\n",
       "  <tbody>\n",
       "    <tr>\n",
       "      <th>2000-01-01</th>\n",
       "      <td>0.457899</td>\n",
       "      <td>0.330025</td>\n",
       "      <td>1.103836</td>\n",
       "      <td>1.891759</td>\n",
       "    </tr>\n",
       "    <tr>\n",
       "      <th>2000-01-02</th>\n",
       "      <td>-0.182450</td>\n",
       "      <td>0.922320</td>\n",
       "      <td>-0.876598</td>\n",
       "      <td>-0.136728</td>\n",
       "    </tr>\n",
       "    <tr>\n",
       "      <th>2000-01-03</th>\n",
       "      <td>-0.639069</td>\n",
       "      <td>-0.682079</td>\n",
       "      <td>0.504647</td>\n",
       "      <td>-0.816501</td>\n",
       "    </tr>\n",
       "    <tr>\n",
       "      <th>2000-01-04</th>\n",
       "      <td>-1.611921</td>\n",
       "      <td>-0.670617</td>\n",
       "      <td>0.383995</td>\n",
       "      <td>-1.898543</td>\n",
       "    </tr>\n",
       "    <tr>\n",
       "      <th>2000-01-05</th>\n",
       "      <td>1.631023</td>\n",
       "      <td>-0.996337</td>\n",
       "      <td>0.871324</td>\n",
       "      <td>1.506010</td>\n",
       "    </tr>\n",
       "    <tr>\n",
       "      <th>2000-01-06</th>\n",
       "      <td>0.667407</td>\n",
       "      <td>2.410278</td>\n",
       "      <td>1.190915</td>\n",
       "      <td>4.268600</td>\n",
       "    </tr>\n",
       "    <tr>\n",
       "      <th>2000-01-07</th>\n",
       "      <td>-0.718672</td>\n",
       "      <td>1.929484</td>\n",
       "      <td>-0.894280</td>\n",
       "      <td>0.316531</td>\n",
       "    </tr>\n",
       "    <tr>\n",
       "      <th>2000-01-08</th>\n",
       "      <td>-0.339477</td>\n",
       "      <td>-0.016698</td>\n",
       "      <td>1.760061</td>\n",
       "      <td>1.403887</td>\n",
       "    </tr>\n",
       "  </tbody>\n",
       "</table>\n",
       "</div>"
      ],
      "text/plain": [
       "                   a         b         c       sum\n",
       "2000-01-01  0.457899  0.330025  1.103836  1.891759\n",
       "2000-01-02 -0.182450  0.922320 -0.876598 -0.136728\n",
       "2000-01-03 -0.639069 -0.682079  0.504647 -0.816501\n",
       "2000-01-04 -1.611921 -0.670617  0.383995 -1.898543\n",
       "2000-01-05  1.631023 -0.996337  0.871324  1.506010\n",
       "2000-01-06  0.667407  2.410278  1.190915  4.268600\n",
       "2000-01-07 -0.718672  1.929484 -0.894280  0.316531\n",
       "2000-01-08 -0.339477 -0.016698  1.760061  1.403887"
      ]
     },
     "execution_count": 81,
     "metadata": {},
     "output_type": "execute_result"
    }
   ],
   "source": [
    "df"
   ]
  },
  {
   "cell_type": "code",
   "execution_count": 82,
   "metadata": {},
   "outputs": [
    {
     "data": {
      "text/html": [
       "<div>\n",
       "<style scoped>\n",
       "    .dataframe tbody tr th:only-of-type {\n",
       "        vertical-align: middle;\n",
       "    }\n",
       "\n",
       "    .dataframe tbody tr th {\n",
       "        vertical-align: top;\n",
       "    }\n",
       "\n",
       "    .dataframe thead th {\n",
       "        text-align: right;\n",
       "    }\n",
       "</style>\n",
       "<table border=\"1\" class=\"dataframe\">\n",
       "  <thead>\n",
       "    <tr style=\"text-align: right;\">\n",
       "      <th></th>\n",
       "      <th>a</th>\n",
       "      <th>b</th>\n",
       "      <th>c</th>\n",
       "      <th>sum</th>\n",
       "      <th>new_empty</th>\n",
       "    </tr>\n",
       "  </thead>\n",
       "  <tbody>\n",
       "    <tr>\n",
       "      <th>2000-01-01</th>\n",
       "      <td>0.457899</td>\n",
       "      <td>0.330025</td>\n",
       "      <td>1.103836</td>\n",
       "      <td>1.891759</td>\n",
       "      <td>0</td>\n",
       "    </tr>\n",
       "    <tr>\n",
       "      <th>2000-01-02</th>\n",
       "      <td>-0.182450</td>\n",
       "      <td>0.922320</td>\n",
       "      <td>-0.876598</td>\n",
       "      <td>-0.136728</td>\n",
       "      <td>0</td>\n",
       "    </tr>\n",
       "    <tr>\n",
       "      <th>2000-01-03</th>\n",
       "      <td>-0.639069</td>\n",
       "      <td>-0.682079</td>\n",
       "      <td>0.504647</td>\n",
       "      <td>-0.816501</td>\n",
       "      <td>0</td>\n",
       "    </tr>\n",
       "    <tr>\n",
       "      <th>2000-01-04</th>\n",
       "      <td>-1.611921</td>\n",
       "      <td>-0.670617</td>\n",
       "      <td>0.383995</td>\n",
       "      <td>-1.898543</td>\n",
       "      <td>0</td>\n",
       "    </tr>\n",
       "    <tr>\n",
       "      <th>2000-01-05</th>\n",
       "      <td>1.631023</td>\n",
       "      <td>-0.996337</td>\n",
       "      <td>0.871324</td>\n",
       "      <td>1.506010</td>\n",
       "      <td>0</td>\n",
       "    </tr>\n",
       "    <tr>\n",
       "      <th>2000-01-06</th>\n",
       "      <td>0.667407</td>\n",
       "      <td>2.410278</td>\n",
       "      <td>1.190915</td>\n",
       "      <td>4.268600</td>\n",
       "      <td>0</td>\n",
       "    </tr>\n",
       "    <tr>\n",
       "      <th>2000-01-07</th>\n",
       "      <td>-0.718672</td>\n",
       "      <td>1.929484</td>\n",
       "      <td>-0.894280</td>\n",
       "      <td>0.316531</td>\n",
       "      <td>0</td>\n",
       "    </tr>\n",
       "    <tr>\n",
       "      <th>2000-01-08</th>\n",
       "      <td>-0.339477</td>\n",
       "      <td>-0.016698</td>\n",
       "      <td>1.760061</td>\n",
       "      <td>1.403887</td>\n",
       "      <td>0</td>\n",
       "    </tr>\n",
       "  </tbody>\n",
       "</table>\n",
       "</div>"
      ],
      "text/plain": [
       "                   a         b         c       sum  new_empty\n",
       "2000-01-01  0.457899  0.330025  1.103836  1.891759          0\n",
       "2000-01-02 -0.182450  0.922320 -0.876598 -0.136728          0\n",
       "2000-01-03 -0.639069 -0.682079  0.504647 -0.816501          0\n",
       "2000-01-04 -1.611921 -0.670617  0.383995 -1.898543          0\n",
       "2000-01-05  1.631023 -0.996337  0.871324  1.506010          0\n",
       "2000-01-06  0.667407  2.410278  1.190915  4.268600          0\n",
       "2000-01-07 -0.718672  1.929484 -0.894280  0.316531          0\n",
       "2000-01-08 -0.339477 -0.016698  1.760061  1.403887          0"
      ]
     },
     "execution_count": 82,
     "metadata": {},
     "output_type": "execute_result"
    }
   ],
   "source": [
    "df[\"new_empty\"] = 0\n",
    "df"
   ]
  },
  {
   "cell_type": "code",
   "execution_count": null,
   "metadata": {},
   "outputs": [],
   "source": []
  },
  {
   "cell_type": "markdown",
   "metadata": {},
   "source": [
    "---\n",
    "### Exercise 1\n",
    "\n",
    "Create a summary for `Packers` (create a `DataFrame` for that team)"
   ]
  },
  {
   "cell_type": "markdown",
   "metadata": {},
   "source": [
    "### Exercise 2\n",
    "\n",
    "Add the column `games_played` to the DataFrame `football` "
   ]
  },
  {
   "cell_type": "markdown",
   "metadata": {},
   "source": [
    "### Exercise 3\n",
    "\n",
    "Add the column `percentage_games_won` to the DataFrame `football` "
   ]
  },
  {
   "cell_type": "markdown",
   "metadata": {},
   "source": [
    "### Exercise 4\n",
    "\n",
    "Display the data for the  `Packers` team only for even years"
   ]
  }
 ],
 "metadata": {
  "kernelspec": {
   "display_name": "Python 3",
   "language": "python",
   "name": "python3"
  },
  "language_info": {
   "codemirror_mode": {
    "name": "ipython",
    "version": 3
   },
   "file_extension": ".py",
   "mimetype": "text/x-python",
   "name": "python",
   "nbconvert_exporter": "python",
   "pygments_lexer": "ipython3",
   "version": "3.9.1"
  },
  "widgets": {
   "application/vnd.jupyter.widget-state+json": {
    "state": {},
    "version_major": 2,
    "version_minor": 0
   }
  }
 },
 "nbformat": 4,
 "nbformat_minor": 4
}
